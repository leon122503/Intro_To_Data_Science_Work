{
 "cells": [
  {
   "cell_type": "markdown",
   "metadata": {
    "colab_type": "text",
    "id": "Ys1xODghCLiT"
   },
   "source": [
    "# INFO 204 Lab 2 - Data Manipulation & Plotting"
   ]
  },
  {
   "cell_type": "markdown",
   "metadata": {
    "colab_type": "text",
    "id": "UOBc2GUmCLib"
   },
   "source": [
    "In this lab, we will be using NumPy to manipulate arrays and datasets, the [Matplotlib](https://matplotlib.org/) plotting utilities to do some useful graphs, and also make some fun probabilistic explorations.\n",
    "\n",
    "Throughout the lab, there are a number of required tasks, each labelled as **Task X**. Your goal for this lab is to complete these sections and then upload the completed notebook to Blackboard before the due date.\n",
    "\n",
    "Please ensure that the following libraries are installed: numpy, matplotlib, seaborn, scikit-learn "
   ]
  },
  {
   "cell_type": "markdown",
   "metadata": {
    "colab_type": "text",
    "id": "C_UaVDtUCLii"
   },
   "source": [
    "## A. Arrays "
   ]
  },
  {
   "cell_type": "markdown",
   "metadata": {
    "colab_type": "text",
    "id": "Y29s0V3dCLip"
   },
   "source": [
    "Arrays will form an important part of machine learning in Python, as most of the machine learning methods will learn from data presented in arrays. Array manipulation is similar to that of list manipulation that we covered in Lab 1. For a start, import numpy:"
   ]
  },
  {
   "cell_type": "code",
   "execution_count": 8,
   "metadata": {
    "colab": {},
    "colab_type": "code",
    "id": "2fUP1w5YCLiu"
   },
   "outputs": [],
   "source": [
    "import numpy as np ## the \"as np\" allows us to refer to the library through the short name 'np' rather than 'numpy'"
   ]
  },
  {
   "cell_type": "markdown",
   "metadata": {
    "colab_type": "text",
    "id": "OaVTRbbBCLi_"
   },
   "source": [
    "Now we define a array \"v\":"
   ]
  },
  {
   "cell_type": "code",
   "execution_count": 9,
   "metadata": {
    "colab": {},
    "colab_type": "code",
    "id": "JUVXUe0eCLjA"
   },
   "outputs": [],
   "source": [
    "v = np.array([1,2,-1,-1])"
   ]
  },
  {
   "cell_type": "markdown",
   "metadata": {
    "colab_type": "text",
    "id": "d5Xaw9XUCLjH"
   },
   "source": [
    "We can access array elements by their indeces, just like using a Python List:"
   ]
  },
  {
   "cell_type": "code",
   "execution_count": 10,
   "metadata": {
    "colab": {},
    "colab_type": "code",
    "id": "eoQPOT26CLjI"
   },
   "outputs": [
    {
     "data": {
      "text/plain": [
       "2"
      ]
     },
     "execution_count": 10,
     "metadata": {},
     "output_type": "execute_result"
    }
   ],
   "source": [
    "v[1]         # 2nd element"
   ]
  },
  {
   "cell_type": "code",
   "execution_count": 11,
   "metadata": {
    "colab": {},
    "colab_type": "code",
    "id": "DW-NntB4CLjM"
   },
   "outputs": [
    {
     "data": {
      "text/plain": [
       "-1"
      ]
     },
     "execution_count": 11,
     "metadata": {},
     "output_type": "execute_result"
    }
   ],
   "source": [
    "v[-1]        # last element, same as in standard Python"
   ]
  },
  {
   "cell_type": "markdown",
   "metadata": {
    "colab_type": "text",
    "id": "pY-nojlACLjR"
   },
   "source": [
    "Some simple operations on the array are straightforward:"
   ]
  },
  {
   "cell_type": "code",
   "execution_count": 12,
   "metadata": {
    "colab": {},
    "colab_type": "code",
    "id": "VPAQeO_GCLjS"
   },
   "outputs": [
    {
     "data": {
      "text/plain": [
       "1"
      ]
     },
     "execution_count": 12,
     "metadata": {},
     "output_type": "execute_result"
    }
   ],
   "source": [
    "np.sum(v)"
   ]
  },
  {
   "cell_type": "code",
   "execution_count": 13,
   "metadata": {
    "colab": {},
    "colab_type": "code",
    "id": "q3_3YnM8CLjZ"
   },
   "outputs": [
    {
     "data": {
      "text/plain": [
       "array([3, 4, 1, 1])"
      ]
     },
     "execution_count": 13,
     "metadata": {},
     "output_type": "execute_result"
    }
   ],
   "source": [
    "v + 2"
   ]
  },
  {
   "cell_type": "code",
   "execution_count": 14,
   "metadata": {
    "colab": {},
    "colab_type": "code",
    "id": "EXpNVJgdCLjd"
   },
   "outputs": [
    {
     "data": {
      "text/plain": [
       "array([ 2,  4, -2, -2])"
      ]
     },
     "execution_count": 14,
     "metadata": {},
     "output_type": "execute_result"
    }
   ],
   "source": [
    "v * 2"
   ]
  },
  {
   "cell_type": "markdown",
   "metadata": {
    "colab_type": "text",
    "id": "Uw4S0UepCLkK"
   },
   "source": [
    "As you see the manipulation of arrays is quite easy in NumPy. \n",
    "How about this multiplication operation between v and a new array x:"
   ]
  },
  {
   "cell_type": "code",
   "execution_count": 15,
   "metadata": {
    "colab": {},
    "colab_type": "code",
    "id": "27KQDHpNCLkN"
   },
   "outputs": [],
   "source": [
    "x = np.array([1,1,-1,-1])"
   ]
  },
  {
   "cell_type": "code",
   "execution_count": 16,
   "metadata": {
    "colab": {},
    "colab_type": "code",
    "id": "KdN6K1acCLkT"
   },
   "outputs": [
    {
     "data": {
      "text/plain": [
       "array([1, 2, 1, 1])"
      ]
     },
     "execution_count": 16,
     "metadata": {},
     "output_type": "execute_result"
    }
   ],
   "source": [
    "x * v      #element-wise product"
   ]
  },
  {
   "cell_type": "markdown",
   "metadata": {
    "colab_type": "text",
    "id": "iDrpsbooCLkX"
   },
   "source": [
    "and of course, we can chain these operations together:"
   ]
  },
  {
   "cell_type": "code",
   "execution_count": 17,
   "metadata": {
    "colab": {},
    "colab_type": "code",
    "id": "foWgNuNFCLkX"
   },
   "outputs": [
    {
     "data": {
      "text/plain": [
       "5"
      ]
     },
     "execution_count": 17,
     "metadata": {},
     "output_type": "execute_result"
    }
   ],
   "source": [
    "np.sum(x * v)      "
   ]
  },
  {
   "cell_type": "markdown",
   "metadata": {
    "colab_type": "text",
    "id": "c2N0gcVqCLkZ"
   },
   "source": [
    "Indeed, the last operation gives us the _dot product_ of the two vectors $\\mathbf{x}$ and $\\mathbf{v}$, i.e., $\\mathbf{x}^T\\mathbf{v}$.  This is such a common operator in many processes that in NumPy, this is implemented by the dedicated dot() function (see if it gives the same outcome as above):"
   ]
  },
  {
   "cell_type": "code",
   "execution_count": 18,
   "metadata": {
    "colab": {},
    "colab_type": "code",
    "id": "6d8Lx9imCLkd"
   },
   "outputs": [
    {
     "data": {
      "text/plain": [
       "5"
      ]
     },
     "execution_count": 18,
     "metadata": {},
     "output_type": "execute_result"
    }
   ],
   "source": [
    "np.dot(x,v)"
   ]
  },
  {
   "cell_type": "markdown",
   "metadata": {
    "colab_type": "text",
    "id": "IAEKVAklCLkf"
   },
   "source": [
    "Next, let us generate a 2D array (with 2 rows x 3 colums) using a random number generator and try out some simple operations:"
   ]
  },
  {
   "cell_type": "code",
   "execution_count": 19,
   "metadata": {
    "colab": {},
    "colab_type": "code",
    "id": "C9_CsldHCLkh"
   },
   "outputs": [],
   "source": [
    "a = np.random.default_rng().random((2,3))"
   ]
  },
  {
   "cell_type": "code",
   "execution_count": 20,
   "metadata": {
    "colab": {},
    "colab_type": "code",
    "id": "smMcI1yqCLkm"
   },
   "outputs": [
    {
     "name": "stdout",
     "output_type": "stream",
     "text": [
      "[[0.85344781 0.08165936 0.10545762]\n",
      " [0.40934773 0.67758641 0.93823411]]\n"
     ]
    }
   ],
   "source": [
    "print(a)       # check out the content of \"a\""
   ]
  },
  {
   "cell_type": "markdown",
   "metadata": {},
   "source": [
    "If you've been given an array, and need to know its dimensions, you can find these out through the array's shape property:"
   ]
  },
  {
   "cell_type": "code",
   "execution_count": 21,
   "metadata": {},
   "outputs": [
    {
     "name": "stdout",
     "output_type": "stream",
     "text": [
      "(2, 3)\n"
     ]
    }
   ],
   "source": [
    "print(a.shape)"
   ]
  },
  {
   "cell_type": "markdown",
   "metadata": {
    "colab_type": "text",
    "id": "24EeR8PzCLko"
   },
   "source": [
    "Simple operations such as +,-,*,/ can be easily carrried out across all elements, e.g."
   ]
  },
  {
   "cell_type": "code",
   "execution_count": 22,
   "metadata": {
    "colab": {},
    "colab_type": "code",
    "id": "89F3b2PzCLkp"
   },
   "outputs": [
    {
     "name": "stdout",
     "output_type": "stream",
     "text": [
      "[[5.85344781 5.08165936 5.10545762]\n",
      " [5.40934773 5.67758641 5.93823411]]\n"
     ]
    }
   ],
   "source": [
    "print(a + 5)"
   ]
  },
  {
   "cell_type": "markdown",
   "metadata": {
    "colab_type": "text",
    "id": "vtwtEHxACLku"
   },
   "source": [
    "Now that we have a 2-D array, we can do operation on one axis or the other, e.g., a vertical addition:"
   ]
  },
  {
   "cell_type": "code",
   "execution_count": 23,
   "metadata": {
    "colab": {},
    "colab_type": "code",
    "id": "4oP1O2A6CLkz"
   },
   "outputs": [
    {
     "name": "stdout",
     "output_type": "stream",
     "text": [
      "[1.26279554 0.75924577 1.04369173]\n"
     ]
    }
   ],
   "source": [
    "print(np.sum(a, axis=0))"
   ]
  },
  {
   "cell_type": "markdown",
   "metadata": {
    "colab_type": "text",
    "id": "Mzmy9s-6CLlM"
   },
   "source": [
    "and a horizontal addition (column-wise):"
   ]
  },
  {
   "cell_type": "code",
   "execution_count": 24,
   "metadata": {
    "colab": {},
    "colab_type": "code",
    "id": "RIde1DCxCLlP"
   },
   "outputs": [
    {
     "name": "stdout",
     "output_type": "stream",
     "text": [
      "[1.04056479 2.02516825]\n"
     ]
    }
   ],
   "source": [
    "print(np.sum(a, axis=1))"
   ]
  },
  {
   "cell_type": "markdown",
   "metadata": {
    "colab_type": "text",
    "id": "AvkdpFTzCLlZ"
   },
   "source": [
    "How do we access rows or columns of an 2-D array? Try these -"
   ]
  },
  {
   "cell_type": "code",
   "execution_count": 25,
   "metadata": {
    "colab": {},
    "colab_type": "code",
    "id": "uF9r53ZJCLlc"
   },
   "outputs": [
    {
     "name": "stdout",
     "output_type": "stream",
     "text": [
      "[0.85344781 0.08165936 0.10545762]\n"
     ]
    }
   ],
   "source": [
    "# first row, or simply \"a[0]\"\"\n",
    "print(a[0,:])"
   ]
  },
  {
   "cell_type": "code",
   "execution_count": 26,
   "metadata": {
    "colab": {},
    "colab_type": "code",
    "id": "SDTtehd1CLlg"
   },
   "outputs": [
    {
     "name": "stdout",
     "output_type": "stream",
     "text": [
      "[0.85344781 0.40934773]\n"
     ]
    }
   ],
   "source": [
    "# first column\n",
    "print(a[:,0])"
   ]
  },
  {
   "cell_type": "code",
   "execution_count": 27,
   "metadata": {},
   "outputs": [
    {
     "name": "stdout",
     "output_type": "stream",
     "text": [
      "0.6313977699800222\n"
     ]
    }
   ],
   "source": [
    "# mean value of the first column\n",
    "print(np.mean(a[:,0]))"
   ]
  },
  {
   "cell_type": "markdown",
   "metadata": {
    "colab_type": "text",
    "id": "c2XwGu6yCLlq"
   },
   "source": [
    "**<span style=\"color: red\">Task 1:</span>** Find out what numpy's [hstack()](https://docs.scipy.org/doc/numpy/reference/generated/numpy.hstack.html#numpy.hstack), \n",
    "[vstack()](https://numpy.org/doc/stable/reference/generated/numpy.vstack.html) \n",
    "or [c_[]](https://numpy.org/doc/stable/reference/generated/numpy.c_.html) does. Put variable a's 1st and 3rd columns into a new 2-D array:"
   ]
  },
  {
   "cell_type": "code",
   "execution_count": 28,
   "metadata": {
    "colab": {},
    "colab_type": "code",
    "id": "eT9T5m3wCLlu"
   },
   "outputs": [
    {
     "name": "stdout",
     "output_type": "stream",
     "text": [
      "[[0.85344781 0.08165936 0.10545762]\n",
      " [0.40934773 0.67758641 0.93823411]]\n",
      "[[0.85344781 0.40934773]\n",
      " [0.10545762 0.93823411]]\n"
     ]
    }
   ],
   "source": [
    "# your code here\n",
    "b= np.array([8, 3, 1])\n",
    "np.vstack((a,b))\n",
    "\n",
    "print(a)\n",
    "x= np.vstack((a[:,0],(a[:,2])))\n",
    "print(x)"
   ]
  },
  {
   "cell_type": "markdown",
   "metadata": {
    "colab_type": "text",
    "id": "bW1yu1OMCLnX"
   },
   "source": [
    "## B. Dealing with datasets"
   ]
  },
  {
   "cell_type": "markdown",
   "metadata": {
    "colab_type": "text",
    "id": "78mGjVkPCLnY"
   },
   "source": [
    "Now we are ready to play with a dataset and put our array manipulation skills into good use. First, we load in a Scikit-Learn dataset related to the well-known \"California Housing\" regression problem. This dataset has instances that describe median house value for California districts, expressed in hundreds of thousands of dollars ($100,000)."
   ]
  },
  {
   "cell_type": "code",
   "execution_count": 29,
   "metadata": {
    "colab": {},
    "colab_type": "code",
    "id": "SmVORGWHCLnY"
   },
   "outputs": [],
   "source": [
    "from sklearn import datasets\n",
    "calif = datasets.fetch_california_housing()"
   ]
  },
  {
   "cell_type": "markdown",
   "metadata": {
    "colab_type": "text",
    "id": "A-8a78F-CLne"
   },
   "source": [
    "We can check out some information about the dataset:"
   ]
  },
  {
   "cell_type": "code",
   "execution_count": 30,
   "metadata": {
    "colab": {},
    "colab_type": "code",
    "id": "uzAM0wPiCLnh"
   },
   "outputs": [
    {
     "name": "stdout",
     "output_type": "stream",
     "text": [
      "Keys of calif: dict_keys(['data', 'target', 'frame', 'target_names', 'feature_names', 'DESCR'])\n",
      "Feature names: ['MedInc', 'HouseAge', 'AveRooms', 'AveBedrms', 'Population', 'AveOccup', 'Latitude', 'Longitude']\n",
      "Shape of data: (20640, 8)\n"
     ]
    }
   ],
   "source": [
    "print(\"Keys of calif: {}\".format(calif.keys()))\n",
    "print(\"Feature names: {}\".format(calif.feature_names))\n",
    "print(\"Shape of data: {}\".format(calif.data.shape))"
   ]
  },
  {
   "cell_type": "markdown",
   "metadata": {
    "colab_type": "text",
    "id": "JntK_93bCLn-"
   },
   "source": [
    "We now extract the data and target separately and assign them to \"X\" and \"y\". This X-y notation is frequently encountered in machine learning and will be adopted for most of our future labs. "
   ]
  },
  {
   "cell_type": "code",
   "execution_count": 31,
   "metadata": {
    "colab": {},
    "colab_type": "code",
    "id": "6hrvFoBuCLn_"
   },
   "outputs": [],
   "source": [
    "X = calif.data\n",
    "y = calif.target"
   ]
  },
  {
   "cell_type": "code",
   "execution_count": 32,
   "metadata": {
    "colab": {},
    "colab_type": "code",
    "id": "RNf2T3pSCLoH"
   },
   "outputs": [
    {
     "data": {
      "text/plain": [
       "((20640, 8), (20640,))"
      ]
     },
     "execution_count": 32,
     "metadata": {},
     "output_type": "execute_result"
    }
   ],
   "source": [
    "# check out the shapes - see if they match with the dataset report above. \n",
    "X.shape, y.shape"
   ]
  },
  {
   "cell_type": "markdown",
   "metadata": {
    "colab_type": "text",
    "id": "4gFVv6V3CLoV"
   },
   "source": [
    "The 'feature_names' information extracted from the dataset does not seem to be very informative, even though we may be able to guess out the meaning of a few attributes. You can find more description of the dataset [here](https://www.kaggle.com/datasets/camnugent/california-housing-prices). Note our target value is \"MedHouseVal\". \n",
    "\n",
    "A popular way of handling datasets is using Pandas' DataFrame. The following code imports the pandas package and generate a DataFrame from the data we've got - note we use Numpy's \"c_[]\" utility to attach the target labels to the feature data X, merging them into one spreadsheet:"
   ]
  },
  {
   "cell_type": "code",
   "execution_count": 33,
   "metadata": {
    "colab": {},
    "colab_type": "code",
    "id": "wiw5eZDBCLoX"
   },
   "outputs": [],
   "source": [
    "import pandas as pd\n",
    "df = pd.DataFrame(data=np.c_[X, y], columns=calif['feature_names'] + ['MedHouseVal'])"
   ]
  },
  {
   "cell_type": "markdown",
   "metadata": {
    "colab_type": "text",
    "id": "1GT-02yBCLol"
   },
   "source": [
    "Now, let's take a look of the head of the dataframe - it's nicely (re)presented:"
   ]
  },
  {
   "cell_type": "code",
   "execution_count": 34,
   "metadata": {
    "colab": {},
    "colab_type": "code",
    "id": "BxwnxNLPCLor"
   },
   "outputs": [
    {
     "data": {
      "text/html": [
       "<div>\n",
       "<style scoped>\n",
       "    .dataframe tbody tr th:only-of-type {\n",
       "        vertical-align: middle;\n",
       "    }\n",
       "\n",
       "    .dataframe tbody tr th {\n",
       "        vertical-align: top;\n",
       "    }\n",
       "\n",
       "    .dataframe thead th {\n",
       "        text-align: right;\n",
       "    }\n",
       "</style>\n",
       "<table border=\"1\" class=\"dataframe\">\n",
       "  <thead>\n",
       "    <tr style=\"text-align: right;\">\n",
       "      <th></th>\n",
       "      <th>MedInc</th>\n",
       "      <th>HouseAge</th>\n",
       "      <th>AveRooms</th>\n",
       "      <th>AveBedrms</th>\n",
       "      <th>Population</th>\n",
       "      <th>AveOccup</th>\n",
       "      <th>Latitude</th>\n",
       "      <th>Longitude</th>\n",
       "      <th>MedHouseVal</th>\n",
       "    </tr>\n",
       "  </thead>\n",
       "  <tbody>\n",
       "    <tr>\n",
       "      <th>0</th>\n",
       "      <td>8.3252</td>\n",
       "      <td>41.0</td>\n",
       "      <td>6.984127</td>\n",
       "      <td>1.023810</td>\n",
       "      <td>322.0</td>\n",
       "      <td>2.555556</td>\n",
       "      <td>37.88</td>\n",
       "      <td>-122.23</td>\n",
       "      <td>4.526</td>\n",
       "    </tr>\n",
       "    <tr>\n",
       "      <th>1</th>\n",
       "      <td>8.3014</td>\n",
       "      <td>21.0</td>\n",
       "      <td>6.238137</td>\n",
       "      <td>0.971880</td>\n",
       "      <td>2401.0</td>\n",
       "      <td>2.109842</td>\n",
       "      <td>37.86</td>\n",
       "      <td>-122.22</td>\n",
       "      <td>3.585</td>\n",
       "    </tr>\n",
       "    <tr>\n",
       "      <th>2</th>\n",
       "      <td>7.2574</td>\n",
       "      <td>52.0</td>\n",
       "      <td>8.288136</td>\n",
       "      <td>1.073446</td>\n",
       "      <td>496.0</td>\n",
       "      <td>2.802260</td>\n",
       "      <td>37.85</td>\n",
       "      <td>-122.24</td>\n",
       "      <td>3.521</td>\n",
       "    </tr>\n",
       "    <tr>\n",
       "      <th>3</th>\n",
       "      <td>5.6431</td>\n",
       "      <td>52.0</td>\n",
       "      <td>5.817352</td>\n",
       "      <td>1.073059</td>\n",
       "      <td>558.0</td>\n",
       "      <td>2.547945</td>\n",
       "      <td>37.85</td>\n",
       "      <td>-122.25</td>\n",
       "      <td>3.413</td>\n",
       "    </tr>\n",
       "    <tr>\n",
       "      <th>4</th>\n",
       "      <td>3.8462</td>\n",
       "      <td>52.0</td>\n",
       "      <td>6.281853</td>\n",
       "      <td>1.081081</td>\n",
       "      <td>565.0</td>\n",
       "      <td>2.181467</td>\n",
       "      <td>37.85</td>\n",
       "      <td>-122.25</td>\n",
       "      <td>3.422</td>\n",
       "    </tr>\n",
       "  </tbody>\n",
       "</table>\n",
       "</div>"
      ],
      "text/plain": [
       "   MedInc  HouseAge  AveRooms  AveBedrms  Population  AveOccup  Latitude  \\\n",
       "0  8.3252      41.0  6.984127   1.023810       322.0  2.555556     37.88   \n",
       "1  8.3014      21.0  6.238137   0.971880      2401.0  2.109842     37.86   \n",
       "2  7.2574      52.0  8.288136   1.073446       496.0  2.802260     37.85   \n",
       "3  5.6431      52.0  5.817352   1.073059       558.0  2.547945     37.85   \n",
       "4  3.8462      52.0  6.281853   1.081081       565.0  2.181467     37.85   \n",
       "\n",
       "   Longitude  MedHouseVal  \n",
       "0    -122.23        4.526  \n",
       "1    -122.22        3.585  \n",
       "2    -122.24        3.521  \n",
       "3    -122.25        3.413  \n",
       "4    -122.25        3.422  "
      ]
     },
     "execution_count": 34,
     "metadata": {},
     "output_type": "execute_result"
    }
   ],
   "source": [
    "df.head()"
   ]
  },
  {
   "cell_type": "markdown",
   "metadata": {
    "colab_type": "text",
    "id": "4kGYMEyGCLou"
   },
   "source": [
    "To locate data in a data frame, use row and column information:"
   ]
  },
  {
   "cell_type": "code",
   "execution_count": 35,
   "metadata": {
    "colab": {},
    "colab_type": "code",
    "id": "-aP--P4zCLoy"
   },
   "outputs": [
    {
     "data": {
      "text/plain": [
       "52.0"
      ]
     },
     "execution_count": 35,
     "metadata": {},
     "output_type": "execute_result"
    }
   ],
   "source": [
    "df.iloc[2]['HouseAge'] ## extracts the \"House Age\" column of the third row"
   ]
  },
  {
   "cell_type": "markdown",
   "metadata": {
    "colab_type": "text",
    "id": "0Kxwg6LHCLo1"
   },
   "source": [
    "Or, extract an attribute's values for a row range, as an array - compare the output with the dataframe head displayed above - note the use of *.values*:"
   ]
  },
  {
   "cell_type": "code",
   "execution_count": 36,
   "metadata": {
    "colab": {},
    "colab_type": "code",
    "id": "p8t3J9WmCLo2"
   },
   "outputs": [
    {
     "name": "stdout",
     "output_type": "stream",
     "text": [
      "[21. 52. 52.]\n"
     ]
    }
   ],
   "source": [
    "print(df.iloc[1:4]['HouseAge'].values) ## extracts the \"House Age\" column of the second to fourth rows of the data set"
   ]
  },
  {
   "cell_type": "markdown",
   "metadata": {
    "colab_type": "text",
    "id": "1LIZtbYOCLpH"
   },
   "source": [
    "You can issue queries on the dataframe, e.g., finding all entries with a HouseAge value not greater than 10:"
   ]
  },
  {
   "cell_type": "code",
   "execution_count": 37,
   "metadata": {
    "colab": {},
    "colab_type": "code",
    "id": "pMZtLawRCLpN"
   },
   "outputs": [
    {
     "data": {
      "text/html": [
       "<div>\n",
       "<style scoped>\n",
       "    .dataframe tbody tr th:only-of-type {\n",
       "        vertical-align: middle;\n",
       "    }\n",
       "\n",
       "    .dataframe tbody tr th {\n",
       "        vertical-align: top;\n",
       "    }\n",
       "\n",
       "    .dataframe thead th {\n",
       "        text-align: right;\n",
       "    }\n",
       "</style>\n",
       "<table border=\"1\" class=\"dataframe\">\n",
       "  <thead>\n",
       "    <tr style=\"text-align: right;\">\n",
       "      <th></th>\n",
       "      <th>MedInc</th>\n",
       "      <th>HouseAge</th>\n",
       "      <th>AveRooms</th>\n",
       "      <th>AveBedrms</th>\n",
       "      <th>Population</th>\n",
       "      <th>AveOccup</th>\n",
       "      <th>Latitude</th>\n",
       "      <th>Longitude</th>\n",
       "      <th>MedHouseVal</th>\n",
       "    </tr>\n",
       "  </thead>\n",
       "  <tbody>\n",
       "    <tr>\n",
       "      <th>59</th>\n",
       "      <td>2.5625</td>\n",
       "      <td>2.0</td>\n",
       "      <td>2.771930</td>\n",
       "      <td>0.754386</td>\n",
       "      <td>94.0</td>\n",
       "      <td>1.649123</td>\n",
       "      <td>37.82</td>\n",
       "      <td>-122.29</td>\n",
       "      <td>0.600</td>\n",
       "    </tr>\n",
       "    <tr>\n",
       "      <th>87</th>\n",
       "      <td>0.7600</td>\n",
       "      <td>10.0</td>\n",
       "      <td>2.651515</td>\n",
       "      <td>1.054545</td>\n",
       "      <td>546.0</td>\n",
       "      <td>1.654545</td>\n",
       "      <td>37.81</td>\n",
       "      <td>-122.27</td>\n",
       "      <td>1.625</td>\n",
       "    </tr>\n",
       "    <tr>\n",
       "      <th>88</th>\n",
       "      <td>0.9722</td>\n",
       "      <td>10.0</td>\n",
       "      <td>2.692308</td>\n",
       "      <td>1.076923</td>\n",
       "      <td>125.0</td>\n",
       "      <td>3.205128</td>\n",
       "      <td>37.80</td>\n",
       "      <td>-122.27</td>\n",
       "      <td>1.375</td>\n",
       "    </tr>\n",
       "    <tr>\n",
       "      <th>437</th>\n",
       "      <td>2.1705</td>\n",
       "      <td>10.0</td>\n",
       "      <td>5.030000</td>\n",
       "      <td>1.180000</td>\n",
       "      <td>228.0</td>\n",
       "      <td>2.280000</td>\n",
       "      <td>37.87</td>\n",
       "      <td>-122.30</td>\n",
       "      <td>1.500</td>\n",
       "    </tr>\n",
       "    <tr>\n",
       "      <th>570</th>\n",
       "      <td>7.6110</td>\n",
       "      <td>5.0</td>\n",
       "      <td>6.855776</td>\n",
       "      <td>1.061442</td>\n",
       "      <td>7427.0</td>\n",
       "      <td>2.732524</td>\n",
       "      <td>37.72</td>\n",
       "      <td>-122.24</td>\n",
       "      <td>3.507</td>\n",
       "    </tr>\n",
       "    <tr>\n",
       "      <th>...</th>\n",
       "      <td>...</td>\n",
       "      <td>...</td>\n",
       "      <td>...</td>\n",
       "      <td>...</td>\n",
       "      <td>...</td>\n",
       "      <td>...</td>\n",
       "      <td>...</td>\n",
       "      <td>...</td>\n",
       "      <td>...</td>\n",
       "    </tr>\n",
       "    <tr>\n",
       "      <th>20570</th>\n",
       "      <td>3.2222</td>\n",
       "      <td>6.0</td>\n",
       "      <td>4.821429</td>\n",
       "      <td>1.032468</td>\n",
       "      <td>894.0</td>\n",
       "      <td>2.902597</td>\n",
       "      <td>38.54</td>\n",
       "      <td>-121.96</td>\n",
       "      <td>1.396</td>\n",
       "    </tr>\n",
       "    <tr>\n",
       "      <th>20571</th>\n",
       "      <td>3.4186</td>\n",
       "      <td>6.0</td>\n",
       "      <td>5.662562</td>\n",
       "      <td>1.027094</td>\n",
       "      <td>2561.0</td>\n",
       "      <td>3.153941</td>\n",
       "      <td>38.53</td>\n",
       "      <td>-121.99</td>\n",
       "      <td>1.273</td>\n",
       "    </tr>\n",
       "    <tr>\n",
       "      <th>20574</th>\n",
       "      <td>1.9327</td>\n",
       "      <td>10.0</td>\n",
       "      <td>5.789474</td>\n",
       "      <td>1.078947</td>\n",
       "      <td>898.0</td>\n",
       "      <td>3.938596</td>\n",
       "      <td>38.57</td>\n",
       "      <td>-121.92</td>\n",
       "      <td>1.938</td>\n",
       "    </tr>\n",
       "    <tr>\n",
       "      <th>20588</th>\n",
       "      <td>2.0474</td>\n",
       "      <td>5.0</td>\n",
       "      <td>4.378132</td>\n",
       "      <td>1.113895</td>\n",
       "      <td>938.0</td>\n",
       "      <td>2.136674</td>\n",
       "      <td>39.15</td>\n",
       "      <td>-121.59</td>\n",
       "      <td>0.613</td>\n",
       "    </tr>\n",
       "    <tr>\n",
       "      <th>20627</th>\n",
       "      <td>3.0000</td>\n",
       "      <td>5.0</td>\n",
       "      <td>6.067797</td>\n",
       "      <td>1.101695</td>\n",
       "      <td>169.0</td>\n",
       "      <td>2.864407</td>\n",
       "      <td>39.13</td>\n",
       "      <td>-121.32</td>\n",
       "      <td>1.625</td>\n",
       "    </tr>\n",
       "  </tbody>\n",
       "</table>\n",
       "<p>1569 rows × 9 columns</p>\n",
       "</div>"
      ],
      "text/plain": [
       "       MedInc  HouseAge  AveRooms  AveBedrms  Population  AveOccup  Latitude  \\\n",
       "59     2.5625       2.0  2.771930   0.754386        94.0  1.649123     37.82   \n",
       "87     0.7600      10.0  2.651515   1.054545       546.0  1.654545     37.81   \n",
       "88     0.9722      10.0  2.692308   1.076923       125.0  3.205128     37.80   \n",
       "437    2.1705      10.0  5.030000   1.180000       228.0  2.280000     37.87   \n",
       "570    7.6110       5.0  6.855776   1.061442      7427.0  2.732524     37.72   \n",
       "...       ...       ...       ...        ...         ...       ...       ...   \n",
       "20570  3.2222       6.0  4.821429   1.032468       894.0  2.902597     38.54   \n",
       "20571  3.4186       6.0  5.662562   1.027094      2561.0  3.153941     38.53   \n",
       "20574  1.9327      10.0  5.789474   1.078947       898.0  3.938596     38.57   \n",
       "20588  2.0474       5.0  4.378132   1.113895       938.0  2.136674     39.15   \n",
       "20627  3.0000       5.0  6.067797   1.101695       169.0  2.864407     39.13   \n",
       "\n",
       "       Longitude  MedHouseVal  \n",
       "59       -122.29        0.600  \n",
       "87       -122.27        1.625  \n",
       "88       -122.27        1.375  \n",
       "437      -122.30        1.500  \n",
       "570      -122.24        3.507  \n",
       "...          ...          ...  \n",
       "20570    -121.96        1.396  \n",
       "20571    -121.99        1.273  \n",
       "20574    -121.92        1.938  \n",
       "20588    -121.59        0.613  \n",
       "20627    -121.32        1.625  \n",
       "\n",
       "[1569 rows x 9 columns]"
      ]
     },
     "execution_count": 37,
     "metadata": {},
     "output_type": "execute_result"
    }
   ],
   "source": [
    "df[df['HouseAge'] <= 10.0]"
   ]
  },
  {
   "cell_type": "markdown",
   "metadata": {
    "colab_type": "text",
    "id": "ygxaXC0-CLpf"
   },
   "source": [
    "**<span style='color:red'>Task 2:</span>** Find out the average house age value for all entries with at least 6.0 rooms (on average)."
   ]
  },
  {
   "cell_type": "code",
   "execution_count": 38,
   "metadata": {
    "colab": {},
    "colab_type": "code",
    "id": "t6Myv9KqCLph"
   },
   "outputs": [
    {
     "name": "stdout",
     "output_type": "stream",
     "text": [
      "24.0062649714391\n"
     ]
    }
   ],
   "source": [
    "# your code here\n",
    "df1 = df[df['AveRooms'] >= 6.0]\n",
    "print(df1['HouseAge'].mean())"
   ]
  },
  {
   "cell_type": "markdown",
   "metadata": {
    "colab_type": "text",
    "id": "ksDw-lPjCLpx"
   },
   "source": [
    "## C. Plotting"
   ]
  },
  {
   "cell_type": "markdown",
   "metadata": {
    "colab_type": "text",
    "id": "dzAx_4sMCLpx"
   },
   "source": [
    "It's time for us to do some plotting. To do this we need to import the Matplotlib/pyplot package:"
   ]
  },
  {
   "cell_type": "code",
   "execution_count": 39,
   "metadata": {
    "colab": {},
    "colab_type": "code",
    "id": "fdlFXomWCLp2"
   },
   "outputs": [],
   "source": [
    "import matplotlib.pyplot as plt ## like with numpy, the 'as plt' provides us with the short alias for the library"
   ]
  },
  {
   "cell_type": "markdown",
   "metadata": {
    "colab_type": "text",
    "id": "Y1dacMNrCLp4"
   },
   "source": [
    "We can display the average occupancy (AveOccup) column as a sequence (i.e. average occupancy across the 20K+ districts; this doesn't make much sense but serves an example):"
   ]
  },
  {
   "cell_type": "code",
   "execution_count": 40,
   "metadata": {
    "colab": {},
    "colab_type": "code",
    "id": "V1DDVQ_tCLp5"
   },
   "outputs": [
    {
     "data": {
      "image/png": "[encoded data removed]",
      "text/plain": [
       "<Figure size 432x288 with 1 Axes>"
      ]
     },
     "metadata": {
      "needs_background": "light"
     },
     "output_type": "display_data"
    }
   ],
   "source": [
    "plt.plot(df['AveOccup']); ## note the semicolon at the end of the statement - it prevents the return value of the plot function from being printed (try removing it and see what happens)"
   ]
  },
  {
   "cell_type": "markdown",
   "metadata": {
    "colab_type": "text",
    "id": "ssj3u7bcCLp6"
   },
   "source": [
    "We can also choose two columns (i.e. attributes) and do a **scatter plot**. In this case we choose the first and last attributes (i.e., median income and median house value), and plot the coordinates using a blue dot:"
   ]
  },
  {
   "cell_type": "code",
   "execution_count": 41,
   "metadata": {
    "colab": {},
    "colab_type": "code",
    "id": "0rZd9WqiCLp7"
   },
   "outputs": [
    {
     "data": {
      "image/png": "[encoded data removed]",
      "text/plain": [
       "<Figure size 432x288 with 1 Axes>"
      ]
     },
     "metadata": {
      "needs_background": "light"
     },
     "output_type": "display_data"
    }
   ],
   "source": [
    "plt.plot(df['MedInc'], df['MedHouseVal'], 'b.');"
   ]
  },
  {
   "cell_type": "markdown",
   "metadata": {
    "colab_type": "text",
    "id": "byrF2L1NCLp8"
   },
   "source": [
    "We can use the \"hist\" function to generate a histogram, e.g. of the target values. The number of bins is specified as 25, and with the \"density\" parameter set the histogram frequencies are normalized - the bar heights now add to 1. "
   ]
  },
  {
   "cell_type": "code",
   "execution_count": 42,
   "metadata": {
    "colab": {},
    "colab_type": "code",
    "id": "PFWme5kECLp9"
   },
   "outputs": [
    {
     "data": {
      "image/png": "[encoded data removed]",
      "text/plain": [
       "<Figure size 432x288 with 1 Axes>"
      ]
     },
     "metadata": {
      "needs_background": "light"
     },
     "output_type": "display_data"
    }
   ],
   "source": [
    "plt.hist(df['MedHouseVal'], bins=25, density=True);"
   ]
  },
  {
   "cell_type": "markdown",
   "metadata": {
    "colab_type": "text",
    "id": "qirSsh1mCLp-"
   },
   "source": [
    "Or use seaborn's \"displot\", with a smooth density estimation displayed:"
   ]
  },
  {
   "cell_type": "code",
   "execution_count": 43,
   "metadata": {
    "colab": {},
    "colab_type": "code",
    "id": "qIoF4Yj6CLp_"
   },
   "outputs": [
    {
     "data": {
      "image/png": "[encoded data removed]",
      "text/plain": [
       "<Figure size 360x360 with 1 Axes>"
      ]
     },
     "metadata": {
      "needs_background": "light"
     },
     "output_type": "display_data"
    }
   ],
   "source": [
    "import seaborn as sb\n",
    "sb.displot(y, kde=True);"
   ]
  },
  {
   "cell_type": "markdown",
   "metadata": {
    "colab_type": "text",
    "id": "7tPpdDx_CLqA"
   },
   "source": [
    "**<span style='color: red'>Task 3:</span>** Plot the histogram for the median household income attribute values. "
   ]
  },
  {
   "cell_type": "code",
   "execution_count": 44,
   "metadata": {
    "colab": {},
    "colab_type": "code",
    "id": "lCOgiXDsCLqA"
   },
   "outputs": [
    {
     "data": {
      "text/plain": [
       "(array([ 213., 1022., 2353., 2955., 3140., 2772., 2391., 1747., 1297.,\n",
       "         881.,  590.,  315.,  292.,  195.,   96.,   51.,   91.,   71.,\n",
       "          37.,   21.,   22.,   15.,   14.,    5.,   54.]),\n",
       " array([ 0.4999  ,  1.079908,  1.659916,  2.239924,  2.819932,  3.39994 ,\n",
       "         3.979948,  4.559956,  5.139964,  5.719972,  6.29998 ,  6.879988,\n",
       "         7.459996,  8.040004,  8.620012,  9.20002 ,  9.780028, 10.360036,\n",
       "        10.940044, 11.520052, 12.10006 , 12.680068, 13.260076, 13.840084,\n",
       "        14.420092, 15.0001  ]),\n",
       " <BarContainer object of 25 artists>)"
      ]
     },
     "execution_count": 44,
     "metadata": {},
     "output_type": "execute_result"
    },
    {
     "data": {
      "image/png": "[encoded data removed]",
      "text/plain": [
       "<Figure size 432x288 with 1 Axes>"
      ]
     },
     "metadata": {
      "needs_background": "light"
     },
     "output_type": "display_data"
    }
   ],
   "source": [
    "# Your code here....\n",
    "plt.hist(df['MedInc'], bins=25,     )"
   ]
  },
  {
   "cell_type": "markdown",
   "metadata": {},
   "source": [
    "You should notice that the distribution of the MedInc variable is skewed. Many modelling methods and analyses assume that data is normally distributed (or at least close to normal). Often, skewed data is better modelled through a _log transform_.\n",
    "\n",
    "**<span style='color: red'>Task 4:</span>** Plot the histogram for the MedInc attribute values _after_ applying a log transform on the values (NumPy provides a [log()](https://numpy.org/doc/stable/reference/generated/numpy.log.html) function that simplifies this process)"
   ]
  },
  {
   "cell_type": "code",
   "execution_count": 45,
   "metadata": {},
   "outputs": [
    {
     "data": {
      "text/plain": [
       "(array([8.19030217e-03, 3.56100094e-04, 6.40980170e-03, 1.24635033e-02,\n",
       "        2.59953069e-02, 3.59661095e-02, 7.08639188e-02, 1.18581331e-01,\n",
       "        2.13660057e-01, 3.07314382e-01, 4.66491124e-01, 5.57652748e-01,\n",
       "        6.92970784e-01, 8.55352427e-01, 8.67815930e-01, 8.69952531e-01,\n",
       "        7.00804986e-01, 6.02877460e-01, 3.99544306e-01, 2.21494259e-01,\n",
       "        1.49205940e-01, 5.59077148e-02, 6.26736166e-02, 1.95855052e-02,\n",
       "        2.77758074e-02]),\n",
       " array([-0.6933472 , -0.55729104, -0.42123488, -0.28517871, -0.14912255,\n",
       "        -0.01306639,  0.12298978,  0.25904594,  0.3951021 ,  0.53115826,\n",
       "         0.66721443,  0.80327059,  0.93932675,  1.07538291,  1.21143908,\n",
       "         1.34749524,  1.4835514 ,  1.61960757,  1.75566373,  1.89171989,\n",
       "         2.02777605,  2.16383222,  2.29988838,  2.43594454,  2.57200071,\n",
       "         2.70805687]),\n",
       " <BarContainer object of 25 artists>)"
      ]
     },
     "execution_count": 45,
     "metadata": {},
     "output_type": "execute_result"
    },
    {
     "data": {
      "image/png": "[encoded data removed]",
      "text/plain": [
       "<Figure size 432x288 with 1 Axes>"
      ]
     },
     "metadata": {
      "needs_background": "light"
     },
     "output_type": "display_data"
    }
   ],
   "source": [
    "# Your code here....\n",
    "\n",
    "\n",
    "plt.hist(np.log(df['MedInc']), bins = 25,density=True)"
   ]
  },
  {
   "cell_type": "markdown",
   "metadata": {
    "colab_type": "text",
    "id": "Y6jDnXYrCLqC"
   },
   "source": [
    "If done correctly, then the resulting histogram should look more like the \"bell curve\" expected from a normal distribution.\n",
    "\n",
    "Seaborn can some other nice plots. E.g., here's the correlation matrix of all attributes (including target) shown as a heatmap:"
   ]
  },
  {
   "cell_type": "code",
   "execution_count": 46,
   "metadata": {
    "colab": {},
    "colab_type": "code",
    "id": "L_7rUi4BCLqC"
   },
   "outputs": [
    {
     "data": {
      "image/png": "[encoded data removed]",
      "text/plain": [
       "<Figure size 432x288 with 2 Axes>"
      ]
     },
     "metadata": {
      "needs_background": "light"
     },
     "output_type": "display_data"
    }
   ],
   "source": [
    "sb.heatmap(df.corr());"
   ]
  },
  {
   "cell_type": "markdown",
   "metadata": {
    "colab_type": "text",
    "id": "7K8sgsbgCLqE"
   },
   "source": [
    "**<span style='color: red'>Task 5:</span>** From the correlation heatmap shown above, which attribute/feature has the largest correlation with the \"MedHouseVal\" value (Tip: check colors on the last column)? Does it make sense? "
   ]
  },
  {
   "cell_type": "markdown",
   "metadata": {
    "colab_type": "text",
    "id": "nqcenG9mCLqF"
   },
   "source": [
    "Your answer (click this cell and type in): \n",
    "\n",
    "- people with higher median income will purchase more expensive homes so the med house value will increase once the median income is higher."
   ]
  },
  {
   "cell_type": "markdown",
   "metadata": {
    "colab_type": "text",
    "id": "V1HMwozzCLqG"
   },
   "source": [
    "## D. Probabilistic expoloration\n",
    "\n",
    "The last part of the lab is related to the concept of probability and probability distributions. \n",
    "\n",
    "### Tom's Breakfast\n",
    "\n",
    "Tom has difficulty in deciding what to eat for breakfast each morning, so he decides to follow some *random* rules:\n",
    "1. If it's a fine day, he'll toss a $2 coin: heads for eggs, tails for muesli.\n",
    "2. otherwise, if it's a rainy day, he'll toss a $1 coin: head for eggs, tails for muesli.\n",
    "It turns out that neither the $2 or $1 coins are fair (i.e., the chance of a head does not equal the change of a tail). The probability of the $2 coin toss returning a head is 0.7, and the probability of a head from the $1 coin toss is 0.4.\n",
    "\n",
    "Assume that the probability of a fine day is 0.6\n",
    "\n",
    "Tom wants to know what is the probability that he'll have eggs on any given day - we could work this out analytically (and should find that the probability is 0.58), but Tom wants to estimate the probability through _simulation_. This can be done using a random number generator in the following manner:\n",
    "1. Start with an empty list\n",
    "2. Generate a random number between 0 and 1 - if the number is below 0.6 then the day is \"fine\"\n",
    "3. If the day is fine, then generate another random number between 0 and 1 - if the number is below 0.7 then append a 1 to the list, otherwise append a 0\n",
    "4. If the day is rainy, then generate another random number between 0 and 1 - if the number is below 0.4 then append a 1 to the list, otherwise append a 0\n",
    "5. Repeat steps 2-4 for a given number of days (e.g., 100)\n",
    "6. Compute the mean of the list\n",
    "\n",
    "In the above algorithm, appending a 1 to the list equates to \"eggs for breakfast\" and appending a 0 equates to \"muesli for breakfast\". Therefore, the mean of the list is an estimate of the probability of eggs for any given day.\n",
    "\n",
    "**<span style='color:red'>Task 6:</span>** Write a few Python lines that generates breakfast picks for Tom, over 100 days; count the number of eggs days. Do the same for 1000 days and then again for 10000 days.\n",
    "Tips: to make it simple, use an array (list) to store the choices, 1 for eggs, 0 for muesli. Also the NumPy [uniform()](https://numpy.org/doc/stable/reference/random/generated/numpy.random.Generator.uniform.html) function will be a huge help here!"
   ]
  },
  {
   "cell_type": "code",
   "execution_count": 47,
   "metadata": {
    "colab": {},
    "colab_type": "code",
    "id": "taVrtWTXCLqG"
   },
   "outputs": [
    {
     "name": "stdout",
     "output_type": "stream",
     "text": [
      "0.57\n"
     ]
    }
   ],
   "source": [
    "# Your code here\n",
    "import random\n",
    "import statistics\n",
    "a = []\n",
    "\n",
    "for x in range(100):\n",
    "    if (random.random() <=0.6):\n",
    "        if (random.random() <=0.7):\n",
    "            a.append(1)\n",
    "        else:\n",
    "            a.append(0)\n",
    "        \n",
    "    else:\n",
    "        if (random.random() <= 0.4):\n",
    "            a.append(1)\n",
    "        else:\n",
    "            a.append(0)\n",
    "        \n",
    "\n",
    "print(statistics.mean(a))\n"
   ]
  },
  {
   "cell_type": "markdown",
   "metadata": {
    "colab_type": "text",
    "id": "sQgLmvJ6CLqJ"
   },
   "source": [
    "Run your code for a couple of times, and comment on your findings:\n",
    "\n",
    "- Write your comments here..."
   ]
  },
  {
   "cell_type": "markdown",
   "metadata": {
    "colab_type": "text",
    "id": "BhMmVbrxCLqK"
   },
   "source": [
    "### Central Limit Theorem\n",
    "If you have 4 rolls of a dice and get 1, 3, 2, 4, then the mean is $(1+3+2+4)/4=2.5$. How about we generate more rolls samples, and see how the sample means are distributed? \n",
    "\n",
    "**<span style='color: red'>Task 7a:</span>** Generate 1000 dice rolls. Find out the mean result. Hint: recall the [integers()](https://numpy.org/doc/stable/reference/random/generated/numpy.random.Generator.integers.html) function from the previous lab!"
   ]
  },
  {
   "cell_type": "code",
   "execution_count": 66,
   "metadata": {
    "colab": {},
    "colab_type": "code",
    "id": "VZD_wMIZCLqK"
   },
   "outputs": [
    {
     "name": "stdout",
     "output_type": "stream",
     "text": [
      "505\n"
     ]
    }
   ],
   "source": [
    "# your code here\n",
    "j =[]\n",
    "\n",
    "rng = np.random.default_rng()\n",
    "z = statistics.mean(rng.integers(1001, size = 1000))\n",
    "print(z)\n"
   ]
  },
  {
   "cell_type": "markdown",
   "metadata": {},
   "source": [
    "**<span style='color: red'>Task 7b:</span>** Repeat Step 1 for 1000 times, plot a histogram for all mean values. "
   ]
  },
  {
   "cell_type": "code",
   "execution_count": 67,
   "metadata": {},
   "outputs": [
    {
     "data": {
      "text/plain": [
       "(array([  1.,   2.,   1.,   8.,  15.,  31.,  34.,  35.,  75.,  79.,  94.,\n",
       "        129., 100., 120.,  59.,  67.,  63.,  30.,  25.,  15.,   8.,   6.,\n",
       "          2.,   0.,   1.]),\n",
       " array([471.  , 473.36, 475.72, 478.08, 480.44, 482.8 , 485.16, 487.52,\n",
       "        489.88, 492.24, 494.6 , 496.96, 499.32, 501.68, 504.04, 506.4 ,\n",
       "        508.76, 511.12, 513.48, 515.84, 518.2 , 520.56, 522.92, 525.28,\n",
       "        527.64, 530.  ]),\n",
       " <BarContainer object of 25 artists>)"
      ]
     },
     "execution_count": 67,
     "metadata": {},
     "output_type": "execute_result"
    },
    {
     "data": {
      "image/png": "[encoded data removed]",
      "text/plain": [
       "<Figure size 432x288 with 1 Axes>"
      ]
     },
     "metadata": {
      "needs_background": "light"
     },
     "output_type": "display_data"
    }
   ],
   "source": [
    "# your code here\n",
    "j =[]\n",
    "for x in range(1000):\n",
    "    j.append(statistics.mean(rng.integers(1001, size = 1000)))\n",
    "\n",
    "plt.hist(j, bins = 25)"
   ]
  },
  {
   "cell_type": "markdown",
   "metadata": {
    "colab_type": "text",
    "id": "SzAyxzjmCLqO"
   },
   "source": [
    "The [Central Limit Theorem](http://sphweb.bumc.bu.edu/otlt/MPH-Modules/BS/BS704_Probability/BS704_Probability12.html) states that for independent and identically distributed (i.i.d) samples, the distribution of the sample means will be normally distributed. Do these results look normally distributed to you?"
   ]
  },
  {
   "cell_type": "markdown",
   "metadata": {
    "colab_type": "text",
    "id": "yDaglbIWCLqO"
   },
   "source": [
    "######  End of Lab 2.\n",
    "Please remember to rename your completed notebook and submit it via Blackboard. "
   ]
  }
 ],
 "metadata": {
  "colab": {
   "collapsed_sections": [
    "XJQDJ7b8CLl3",
    "BhMmVbrxCLqK"
   ],
   "name": "lab2.ipynb",
   "provenance": [],
   "version": "0.3.2"
  },
  "kernelspec": {
   "display_name": "Python 3.10.4 64-bit",
   "language": "python",
   "name": "python3"
  },
  "language_info": {
   "codemirror_mode": {
    "name": "ipython",
    "version": 3
   },
   "file_extension": ".py",
   "mimetype": "text/x-python",
   "name": "python",
   "nbconvert_exporter": "python",
   "pygments_lexer": "ipython3",
   "version": "3.10.4"
  },
  "vscode": {
   "interpreter": {
    "hash": "ce7cca635952bebe4ff973d82e24d837bdff99cd5a17557994c0e84479824bc0"
   }
  }
 },
 "nbformat": 4,
 "nbformat_minor": 4
}
