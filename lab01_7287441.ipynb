{
 "cells": [
  {
   "cell_type": "markdown",
   "metadata": {
    "colab_type": "text",
    "id": "W3A7nuhI_M3U"
   },
   "source": [
    "# INFO 204 Lab 1 - Getting Started with Python & Jupyter"
   ]
  },
  {
   "cell_type": "markdown",
   "metadata": {},
   "source": [
    "INFO 204 will make extensive use of Python for examples and labwork. You are not expected to become proficient in Python (indeed, most of your work will involve following a fairly set template), but you should have a working grasp of the basics (declaring variables and assigning values, looping, branching, working with lists). We will also be working with the following libraries:\n",
    "* numpy (for manipulating numbers)\n",
    "* pandas (for loading and manipulating tables of data)\n",
    "* scikit-learn (for applying machine learning algorithms to our data)\n",
    "* matplotlib (for graphing)\n",
    "We will give you plenty of examples to work from during labs, but you should also feel free to ask for help/clarification as required!\n",
    "\n",
    "If you have experience with another programming language (e.g., R, C, Java), then many of the concepts you know from these languages should transfer directly to learning Python. More often than not, the challenge in solving a problem is **understanding the problem**, the particular nuances of the programming language used to solve the problem can be googled! During INFO 204, if you find yourself struggling to solve a particular problem, first ask yourself this: *what am I trying to in this particular step?*\n"
   ]
  },
  {
   "cell_type": "markdown",
   "metadata": {
    "colab_type": "text",
    "id": "-b5UdUQg_M3Y"
   },
   "source": [
    "## Part A. Review"
   ]
  },
  {
   "cell_type": "markdown",
   "metadata": {
    "colab_type": "text",
    "id": "QCT1ZCnF_M3b"
   },
   "source": [
    "This lab is for us to get familiar with our lab environment and go over some basic Python/Numpy skills. \n",
    "\n",
    "We are using Jupyter Notebook, an interactive environment based on IPython - a high-performance command shell for Python. We have provided instructions on Blackboard for if you want to install Jupyter on your own machine. Otherwise you can always upload your notebook into [Google Colab](https://research.google.com/colaboratory/) and work from there. \n",
    "\n",
    "To proceed, read through and run the code cells along the way (if not otherwise instructed).\n",
    "\n",
    "Complete the scripts (for \"TO-DO\" tasks) and verify their outcome. Submit the completed notebook before the ***<span style=\"color: red\">deadline posted on Blackboard</span>***.\n",
    "\n",
    "Some useful tips for you to use the Jupyter system on Colab:\n",
    "\n",
    "*   Double-click into a TEXT cell and you can edit it (but don't change the instruction texts!).\n",
    "*   Clicking into a CODE cell will allow you to run it (by clicking on the PLAY button on the left, or press CTRL-Enter), or to edit it (just type away)\n",
    "*   Unlike a conventional piece of code that runs from the beginning to the end, a Jupyter notebook can be played with more flexibility - you can click into cells in any arbitrary order, change them and run them. Of course this would lead into errors if the order doesn't make sense!\n",
    "\n",
    "Okay, buckle your safety belt, and let's drive on ;-)"
   ]
  },
  {
   "cell_type": "code",
   "execution_count": null,
   "metadata": {
    "colab": {
     "base_uri": "https://localhost:8080/",
     "height": 37
    },
    "colab_type": "code",
    "executionInfo": {
     "elapsed": 1945,
     "status": "ok",
     "timestamp": 1594107701499,
     "user": {
      "displayName": "Jeremiah Deng",
      "photoUrl": "",
      "userId": "10520647090430610818"
     },
     "user_tz": -720
    },
    "id": "W3NrHXki8rqN",
    "outputId": "0e47cd6e-909b-4d6f-d374-67224ec109bb"
   },
   "outputs": [],
   "source": [
    "# first, checking the Python version... run the cell to ensure that we're running a Python 3.X variant.\n",
    "import sys\n",
    "sys.version"
   ]
  },
  {
   "cell_type": "markdown",
   "metadata": {
    "colab_type": "text",
    "id": "TLpR6c3w_M3c"
   },
   "source": [
    "### Basics"
   ]
  },
  {
   "cell_type": "code",
   "execution_count": null,
   "metadata": {
    "colab": {
     "base_uri": "https://localhost:8080/",
     "height": 34
    },
    "colab_type": "code",
    "executionInfo": {
     "elapsed": 1395,
     "status": "ok",
     "timestamp": 1594107717242,
     "user": {
      "displayName": "Jeremiah Deng",
      "photoUrl": "",
      "userId": "10520647090430610818"
     },
     "user_tz": -720
    },
    "id": "EQgNVtpc_M3g",
    "outputId": "9709d564-b71c-40a3-da1c-4688707630cb"
   },
   "outputs": [],
   "source": [
    "# universal greetings from all emerging programmers ;-)\n",
    "print(\"Hello World!\")"
   ]
  },
  {
   "cell_type": "markdown",
   "metadata": {},
   "source": [
    "Variables in Python are assigned a value with the '=' operator (just like C and Java):"
   ]
  },
  {
   "cell_type": "code",
   "execution_count": null,
   "metadata": {},
   "outputs": [],
   "source": [
    "a = 3\n",
    "b = 4"
   ]
  },
  {
   "cell_type": "markdown",
   "metadata": {
    "colab_type": "text",
    "id": "IGokvSex_M3o"
   },
   "source": [
    "Arithmetic in Python is more or less the same as most other programming languages. For example: "
   ]
  },
  {
   "cell_type": "code",
   "execution_count": null,
   "metadata": {
    "colab": {},
    "colab_type": "code",
    "id": "BcKyY7eHAhDx"
   },
   "outputs": [],
   "source": [
    "print(a + b)\n",
    "print(b - a)\n",
    "print(a / b)\n",
    "print((a + 1) / b)\n",
    "print(b * a)"
   ]
  },
  {
   "cell_type": "markdown",
   "metadata": {},
   "source": [
    "Rasing a number $a$ to the $n$-th power (i.e., $a^{n}$) is done in Python with the '\\*\\*' operator:"
   ]
  },
  {
   "cell_type": "code",
   "execution_count": null,
   "metadata": {
    "colab": {},
    "colab_type": "code",
    "id": "A9mbFx-w_M36"
   },
   "outputs": [],
   "source": [
    "# Assign a to 11, 111, 1111, ... each time click back to this cell, make change, and run; repeat\n",
    "a = 1\n",
    "print(a**2)"
   ]
  },
  {
   "cell_type": "markdown",
   "metadata": {
    "colab_type": "text",
    "id": "vzSANIk9_M3-"
   },
   "source": [
    "In the preceding cell, 'a\\*\\*2' gives $a$ to the power of 2: $a^2$. Change the a value and re-run the cell a few times. Hopefully, you'll find this a tedious task! We can use a *for* loop to save some time. Run the following code and see how the variable 'a' is updated:"
   ]
  },
  {
   "cell_type": "code",
   "execution_count": null,
   "metadata": {
    "colab": {},
    "colab_type": "code",
    "id": "QEGHmaiK_M4A"
   },
   "outputs": [],
   "source": [
    "a = 1\n",
    "for i in range(9):\n",
    "    print(a)\n",
    "    a = a*10 + 1"
   ]
  },
  {
   "cell_type": "markdown",
   "metadata": {
    "colab_type": "text",
    "id": "bEAsYuNl_M4O"
   },
   "source": [
    "**<span style=\"color: red\">TO-DO</span>**: complete the code below to get all $a^2$ printed for a=1,11,111,.... "
   ]
  },
  {
   "cell_type": "code",
   "execution_count": 17,
   "metadata": {
    "colab": {},
    "colab_type": "code",
    "id": "f4vVX-xq_M4P"
   },
   "outputs": [
    {
     "name": "stdout",
     "output_type": "stream",
     "text": [
      "1111111111\n"
     ]
    }
   ],
   "source": [
    "a = 1\n",
    "for i in range(9):\n",
    "    ## insert your code here\n",
    "    a = a*10 + 1 # update a value\n",
    "print(a)"
   ]
  },
  {
   "cell_type": "markdown",
   "metadata": {
    "colab_type": "text",
    "id": "Wog8uT0F_M4V"
   },
   "source": [
    "To automate things, it is often a good idea to wrap some code into a function for reuse. \n",
    "\n",
    "Here's an example - a function that calculates the hypotenuse (side opposite the right angle) of a rectangular triangle, given the lengths of its two sides. Suppose the two sides are $a$ and $b$, according to the Pythagoras theorem, the hypotenuse is $c=\\sqrt{a^2+b^2}$. We import the \"math\" package for the purpose of using the function sqrt(), and then define a function. Run the following cell - it will produce '5.0' (of course):"
   ]
  },
  {
   "cell_type": "code",
   "execution_count": 33,
   "metadata": {
    "colab": {},
    "colab_type": "code",
    "id": "9gckm2NS_M4Y"
   },
   "outputs": [
    {
     "name": "stdout",
     "output_type": "stream",
     "text": [
      "5.0\n"
     ]
    }
   ],
   "source": [
    "import math\n",
    "def pythagoras(a, b):\n",
    "    return math.sqrt(a**2 + b**2)\n",
    "\n",
    "print(pythagoras(3,4)) # An example. "
   ]
  },
  {
   "cell_type": "markdown",
   "metadata": {
    "colab_type": "text",
    "id": "Rw9B5pI5ot3V"
   },
   "source": [
    "**<span style=\"color: red\">TO-DO</span>**: modify the function defintion above so that it checks if either of a or b is negative; if either argument is negative, then print an error message and return None; test it using (-3, 4):"
   ]
  },
  {
   "cell_type": "code",
   "execution_count": 62,
   "metadata": {
    "colab": {},
    "colab_type": "code",
    "id": "ufpEFZ3z_M4c"
   },
   "outputs": [
    {
     "name": "stdout",
     "output_type": "stream",
     "text": [
      "4.47213595499958\n"
     ]
    }
   ],
   "source": [
    "import math\n",
    "def pythagoras(a, b):\n",
    "    if a < 0 or b < 0 :\n",
    "        print(\"error\")\n",
    "        return None\n",
    "        \n",
    "\n",
    "    else :\n",
    "        return math.sqrt(a**2 + b**2)\n",
    "\n",
    "  \n",
    "\n",
    "print(pythagoras(2,4)) # An example. "
   ]
  },
  {
   "cell_type": "markdown",
   "metadata": {
    "colab_type": "text",
    "id": "f6Rphs2X_M4h"
   },
   "source": [
    "### Lists"
   ]
  },
  {
   "cell_type": "markdown",
   "metadata": {
    "colab_type": "text",
    "id": "IYd_6QDe_M4j"
   },
   "source": [
    "Revisiting the $111...1^2$ task - we can use a \"for ... in ...\" loop to iterate through a list and generate the outcome:"
   ]
  },
  {
   "cell_type": "code",
   "execution_count": 63,
   "metadata": {
    "colab": {},
    "colab_type": "code",
    "id": "vEJTcH4s_M4j"
   },
   "outputs": [
    {
     "name": "stdout",
     "output_type": "stream",
     "text": [
      "1\n",
      "121\n",
      "12321\n",
      "1234321\n",
      "123454321\n"
     ]
    }
   ],
   "source": [
    "# iterate through a list\n",
    "alist=[1, 11, 111, 1111, 11111]\n",
    "for item in alist:\n",
    "    print(item**2)"
   ]
  },
  {
   "cell_type": "markdown",
   "metadata": {
    "colab_type": "text",
    "id": "aGukVzB7_M4p"
   },
   "source": [
    "The List is a very useful data structure in Python. Like in C/Java, the index of an N-element list starts from 0, ends with $N-1$. The $N-1$ index has a handy shorthand: -1. Similarly, a -2 index is equivalent to $N-2$... Next time you see an expression of accessing a list or array using a negative index, you won't be surprised ;-)"
   ]
  },
  {
   "cell_type": "code",
   "execution_count": 64,
   "metadata": {
    "colab": {},
    "colab_type": "code",
    "id": "egyJlYFd_M4r"
   },
   "outputs": [
    {
     "name": "stdout",
     "output_type": "stream",
     "text": [
      "Length of the list: 5\n",
      "First entry: 1\n",
      "Third entry: 111\n",
      "Last entry: 11111\n",
      "Second-last entry: 1111\n"
     ]
    }
   ],
   "source": [
    "print('Length of the list:', len(alist))\n",
    "print('First entry:', alist[0])\n",
    "print('Third entry:', alist[2])\n",
    "print('Last entry:', alist[-1])\n",
    "print('Second-last entry:', alist[-2])"
   ]
  },
  {
   "cell_type": "markdown",
   "metadata": {},
   "source": [
    "It's often useful to navigate a list with indexing a range of elements. For those of you familiar with R's style of list indexing, you can use the ':' operator to define a range of indices to extract from the list:"
   ]
  },
  {
   "cell_type": "code",
   "execution_count": 65,
   "metadata": {},
   "outputs": [
    {
     "name": "stdout",
     "output_type": "stream",
     "text": [
      "First two elements of the list: [1, 11]\n",
      "Third and fourth elements of list: [111, 1111]\n",
      "Everything but the last element of list: [1, 11, 111, 1111]\n",
      "Everything but the last two elements of list: [1, 11, 111]\n"
     ]
    }
   ],
   "source": [
    "print('First two elements of the list:', alist[0:2])\n",
    "print('Third and fourth elements of list:', alist[2:4])\n",
    "print('Everything but the last element of list:', alist[:-1])\n",
    "print('Everything but the last two elements of list:', alist[:-2])\n"
   ]
  },
  {
   "cell_type": "markdown",
   "metadata": {
    "colab_type": "text",
    "id": "dAtgykkq_M4u"
   },
   "source": [
    "An *often-used* trick is to use an empty list to collect data or statistics progressively. The following blurb imports the 'random' package and generate 10 random numbers between 0 and 1.0. Note we use .append() to add new items onto the *end* of the list:"
   ]
  },
  {
   "cell_type": "code",
   "execution_count": 66,
   "metadata": {
    "colab": {},
    "colab_type": "code",
    "id": "AofOXUuk_M4w"
   },
   "outputs": [
    {
     "name": "stdout",
     "output_type": "stream",
     "text": [
      "[0.5731553578988441, 0.16136163063339382, 0.1554623312175728, 0.8908062661895143, 0.28563890068884346, 0.7367526565692726, 0.08989800014163307, 0.4690570412494164, 0.3663523897637312, 0.09150418688138595]\n"
     ]
    }
   ],
   "source": [
    "# import the 'random' package \n",
    "import random\n",
    "rlst=[] # create an empty list\n",
    "for i in range(10):\n",
    "    rlst.append(random.random()) # add a random number between zero and one to the end of the list\n",
    "print(rlst)"
   ]
  },
  {
   "cell_type": "markdown",
   "metadata": {},
   "source": [
    "Python also provides an alternative way to construct lists using *[list comprehension](https://docs.python.org/3/tutorial/datastructures.html#list-comprehensions)*:"
   ]
  },
  {
   "cell_type": "code",
   "execution_count": 67,
   "metadata": {},
   "outputs": [
    {
     "name": "stdout",
     "output_type": "stream",
     "text": [
      "[0.3661949482317587, 0.06492168040836577, 0.3036142280408082, 0.351656807247953, 0.7528391731500529, 0.39525567154676144, 0.6693185949029861, 0.9798409811638746, 0.4052489367352239]\n"
     ]
    }
   ],
   "source": [
    "rlist = [ random.random() for i in range(9) ]\n",
    "print(rlist)"
   ]
  },
  {
   "cell_type": "markdown",
   "metadata": {},
   "source": [
    "We 100% do not care which of these you use in INFO 204 (it's the result that counts!), so use what you're most comfortable with. (Like most things involving programming languages, you'll probably end up with using a mixture of both approaches where most convenient)"
   ]
  },
  {
   "cell_type": "markdown",
   "metadata": {
    "colab_type": "text",
    "id": "uFylBUskWrYW"
   },
   "source": [
    "**<span style=\"color: red\">TO-DO</span>**: generate a list that includes the outcome of 100 dice rolls. (Tips: you can also use the [random.randint(.)](https://docs.python.org/3/library/random.html) function). "
   ]
  },
  {
   "cell_type": "code",
   "execution_count": 76,
   "metadata": {
    "colab": {},
    "colab_type": "code",
    "id": "ielVP_-nW5pq"
   },
   "outputs": [
    {
     "name": "stdout",
     "output_type": "stream",
     "text": [
      "[4, 5, 4, 3, 1, 6, 4, 2, 2, 2, 3, 3, 3, 5, 6, 6, 2, 4, 3, 1, 4, 6, 5, 6, 4, 4, 5, 4, 5, 1, 3, 1, 4, 5, 1, 3, 6, 6, 2, 4, 3, 2, 1, 4, 6, 2, 3, 3, 1, 5, 4, 4, 3, 1, 2, 4, 2, 2, 5, 1, 5, 3, 1, 5, 1, 5, 2, 1, 4, 1, 6, 6, 5, 5, 5, 4, 2, 5, 4, 4, 6, 1, 3, 6, 1, 1, 6, 5, 1, 6, 2, 1, 6, 4, 3, 2, 3, 3, 1, 2]\n"
     ]
    }
   ],
   "source": [
    "# import the 'random' package \n",
    "import random\n",
    "rlst=[] # create an empty list\n",
    "for i in range(100):\n",
    "    rlst.append(random.randint(1,6)) # add a random number between zero and one to the end of the list\n",
    "print(rlst)"
   ]
  },
  {
   "cell_type": "markdown",
   "metadata": {},
   "source": [
    "**<span style=\"color: red\">TO-DO</span>**: there's an even easier way to do generate random numbers. Use the [integers()](https://numpy.org/doc/stable/reference/random/generated/numpy.random.Generator.integers.html) function from the numpy library, wich includes a size parameter to indicate how many samples you would like:"
   ]
  },
  {
   "cell_type": "code",
   "execution_count": 84,
   "metadata": {},
   "outputs": [
    {
     "name": "stdout",
     "output_type": "stream",
     "text": [
      "[array([2, 5, 2, 2, 5, 4, 4, 3, 3, 3, 3, 3, 2, 5, 2, 4, 2, 3, 1, 1, 2, 3,\n",
      "       3, 1, 1, 4, 5, 2, 3, 3, 5, 4, 2, 1, 3, 3, 2, 1, 3, 5, 4, 5, 1, 2,\n",
      "       3, 5, 1, 2, 4, 3, 5, 1, 5, 5, 2, 2, 2, 1, 5, 4, 4, 3, 1, 4, 4, 1,\n",
      "       5, 3, 5, 2, 3, 2, 3, 5, 1, 2, 4, 2, 1, 2, 1, 2, 1, 1, 5, 5, 4, 3,\n",
      "       5, 4, 2, 2, 2, 2, 3, 1, 2, 3, 1, 5], dtype=int64)]\n"
     ]
    }
   ],
   "source": [
    "import numpy as np\n",
    "rng = np.random.default_rng()\n",
    "# import the 'random' package \n",
    "import random\n",
    "rlist=[rng.integers(1,6,size = 100)]\n",
    "print(rlist)"
   ]
  },
  {
   "cell_type": "markdown",
   "metadata": {
    "colab_type": "text",
    "id": "quT6lYLL_M40"
   },
   "source": [
    "### Strings"
   ]
  },
  {
   "cell_type": "markdown",
   "metadata": {
    "colab_type": "text",
    "id": "1wV0kIbb_M40"
   },
   "source": [
    "Strings are just a special type of List - string manipulation in Python is flexible and easy. "
   ]
  },
  {
   "cell_type": "code",
   "execution_count": 85,
   "metadata": {
    "colab": {},
    "colab_type": "code",
    "id": "rg6-i9DC_M42"
   },
   "outputs": [
    {
     "name": "stdout",
     "output_type": "stream",
     "text": [
      "e\n"
     ]
    }
   ],
   "source": [
    "# treated as a list\n",
    "hello='hello world'\n",
    "print(hello[1])"
   ]
  },
  {
   "cell_type": "code",
   "execution_count": 86,
   "metadata": {
    "colab": {},
    "colab_type": "code",
    "id": "8YBX4XnK_M48"
   },
   "outputs": [
    {
     "name": "stdout",
     "output_type": "stream",
     "text": [
      "['hello', 'world']\n"
     ]
    }
   ],
   "source": [
    "# split by a specified separator\n",
    "tokens = hello.split(' ')\n",
    "print(tokens)"
   ]
  },
  {
   "cell_type": "code",
   "execution_count": 87,
   "metadata": {
    "colab": {},
    "colab_type": "code",
    "id": "nUJRfQP8_M5B"
   },
   "outputs": [
    {
     "name": "stdout",
     "output_type": "stream",
     "text": [
      "True\n"
     ]
    }
   ],
   "source": [
    "# query / search etc.\n",
    "print(hello.startswith('he'))"
   ]
  },
  {
   "cell_type": "code",
   "execution_count": 88,
   "metadata": {
    "colab": {},
    "colab_type": "code",
    "id": "LMxp7TKyCSlj"
   },
   "outputs": [
    {
     "name": "stdout",
     "output_type": "stream",
     "text": [
      "6\n"
     ]
    }
   ],
   "source": [
    "print(hello.find('world'))"
   ]
  },
  {
   "cell_type": "markdown",
   "metadata": {
    "colab_type": "text",
    "id": "WRfHmcb8p-u2"
   },
   "source": [
    "**<span style=\"color: red\">TO-DO</span>**: find and count all the words that start with 'dream' in the following \"lyrics\" string (tips: use split() and a for loop for matching): "
   ]
  },
  {
   "cell_type": "code",
   "execution_count": 89,
   "metadata": {
    "colab": {},
    "colab_type": "code",
    "id": "5lP52Jhzgw8t"
   },
   "outputs": [
    {
     "name": "stdout",
     "output_type": "stream",
     "text": [
      "[2, 12, 78, 115, 185]\n",
      "2\n",
      "4\n",
      "18\n",
      "2\n",
      "38\n",
      "5\n"
     ]
    }
   ],
   "source": [
    "from pickle import TRUE\n",
    "import re\n",
    "\n",
    "lyrics = 'I dreamed a dream in times gone by \\\n",
    "When hope was high and life worth living \\\n",
    "I dreamed, that love would never die \\\n",
    "I dreamed that God would be forgiving \\\n",
    "Then I was young and unafraid \\\n",
    "And dreams were made and used and wasted \\\n",
    "There was no ransom to be paid \\\n",
    "No song unsung, no wine untasted'\n",
    "\n",
    "print([m.start() for m in re.finditer('dream', lyrics)]) # find index of all dream words\n",
    "token = lyrics.split(\" \")\n",
    "count = 0\n",
    "for x in token:\n",
    "     if (x.startswith('dream') == True):\n",
    "          index= token.index(x)\n",
    "          print(index + 1) # displays which word starts with dream\n",
    "          count = count + 1 # displays total word that starts with dream\n",
    "\n",
    "print(count)\n"
   ]
  },
  {
   "cell_type": "markdown",
   "metadata": {
    "colab_type": "text",
    "id": "PKGMTcNr_M5c"
   },
   "source": [
    "## Part B. Exercises"
   ]
  },
  {
   "cell_type": "markdown",
   "metadata": {
    "colab_type": "text",
    "id": "euhwgUcD_M5d"
   },
   "source": [
    "### Birthday problem\n",
    "Have you ever been to a party and met a person with exactly the same birthday as yours? How likely this would happen, we wonder. Let's find it out using a bit of Python...\n",
    "\n",
    "We consider the opposite situation, i.e, every one in the party has a unique birthday. For simplicity we assume that every day in the year can equally be a birthday, i.e., the distribution of birthdays is uniform throughout the year. \n",
    "\n",
    "Suppose we have four people in the room. For the person 1, out of 365 days (for sake of simplicity, let's ignore leap years), she can have any one day as her birthday. Note her chance as $p_1=\\frac{365}{365}$. For the 2nd person, out of 365 days, she can now only choose one from 364 days (to avoid choosing the day chosen by person 1). Note her chance as $p_2=\\frac{364}{365}$. So on and so forth. \n",
    "\n",
    "So the chance of everybody having a unique birthday is \n",
    "$$P=\\frac{365}{365}\\times \\frac{364}{365}\\times \\frac{363}{365}\\times \\frac{362}{365}=0.98.$$\n",
    "This means that in the 4-people party, the chance of having at least one birthday clash, is 1-0.98=0.02, i.e., only 2 percent. \n",
    "\n",
    "**<span style=\"color: red\">TO-DO</span>**: Write a function to calculate the probability of, given $n$ people in a party, at least two sharing the same birthday. Test it on the cases of 4 and 23. (Tips: use a \"for\" loop to implement the calculation outlined as above.)"
   ]
  },
  {
   "cell_type": "code",
   "execution_count": 93,
   "metadata": {
    "colab": {},
    "colab_type": "code",
    "id": "LAurX4hB_M5p"
   },
   "outputs": [
    {
     "name": "stdout",
     "output_type": "stream",
     "text": [
      "[0.5072972343239855]\n"
     ]
    }
   ],
   "source": [
    "# your code here\n",
    "def birthday_clash_prob(n):\n",
    "    number =1\n",
    "    for x in range(n):\n",
    "        number = number*(365-x)/365\n",
    "    return 1- number ### replace this with your required work\n",
    "\n",
    "probs = [birthday_clash_prob(23)] ## replace this with something that actually computes the probabilities of birthday clashes from n=4 to n=23\n",
    "print(probs)"
   ]
  },
  {
   "cell_type": "markdown",
   "metadata": {
    "colab_type": "text",
    "id": "7CH5PgQx_M5u"
   },
   "source": [
    "######  End of Lab 1."
   ]
  },
  {
   "cell_type": "markdown",
   "metadata": {
    "colab_type": "text",
    "id": "CUsw4A_6_M5w"
   },
   "source": [
    "* *Congratulations for completing your (maybe first) Python notebook!* Remember to **rename your file, download it (.ipynb), and submit** it through Blackboard. "
   ]
  },
  {
   "cell_type": "markdown",
   "metadata": {
    "colab_type": "text",
    "id": "hIlQO2eHvWxO"
   },
   "source": [
    "Not in a hurry? Take a look of the [Formatting colab guide](https://colab.research.google.com/notebooks/markdown_guide.ipynb) and make good use of the tips there to beautify your notebook submission. "
   ]
  }
 ],
 "metadata": {
  "colab": {
   "collapsed_sections": [],
   "name": "lab1_FirstnameSurname.ipynb",
   "provenance": []
  },
  "kernelspec": {
   "display_name": "Python 3.10.4 64-bit",
   "language": "python",
   "name": "python3"
  },
  "language_info": {
   "codemirror_mode": {
    "name": "ipython",
    "version": 3
   },
   "file_extension": ".py",
   "mimetype": "text/x-python",
   "name": "python",
   "nbconvert_exporter": "python",
   "pygments_lexer": "ipython3",
   "version": "3.10.4"
  },
  "vscode": {
   "interpreter": {
    "hash": "ce7cca635952bebe4ff973d82e24d837bdff99cd5a17557994c0e84479824bc0"
   }
  }
 },
 "nbformat": 4,
 "nbformat_minor": 4
}
