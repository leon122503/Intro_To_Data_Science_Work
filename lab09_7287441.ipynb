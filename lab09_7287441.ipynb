{
 "cells": [
  {
   "cell_type": "markdown",
   "id": "ce87775c-a2a8-4cd8-bbf9-0a2d49d739a8",
   "metadata": {},
   "source": [
    "# INFO 204 Lab 9 - Ensemble Learning"
   ]
  },
  {
   "cell_type": "markdown",
   "id": "d892e026-f1c3-460c-b70b-67653238f2ef",
   "metadata": {},
   "source": [
    "***<span style='color: #ce2227;'>PLEASE READ ALL THE INSTRUCTIONS AND ACCOMPANYING TEXT IN LAB NOTEBOOKS - THE INFORMATION NEDED TO ANSWER A GIVEN TASK OR INTERPRET A GIVEN RESULT IS OFTEN IN THE TEXT!</span>***\n",
    "\n",
    "We have discussed ensemble learning in lectures - the goal of most forms of ensemble learning is to take a simpler modelling technique (called a _base learner_) and improve its performance by creatively combining multiple instances of said technique into a single prediction. In this lab, we will explore two forms of ensemble learning: bagging and boosting.\n",
    "\n",
    "In this lab you will:\n",
    "  1. Reshape one dimensional data and plot as an image (needed for second assignment)\n",
    "  2. Characterise the bias and variance behaviour of a CART base learner.\n",
    "  3. Construct a bagging ensemble from scratch using a CART base learner.\n",
    "  4. Construct a boosting ensemble from scratch using a CART base learner.\n",
    "  \n",
    "You will also compare your manually-constructed ensembles with their off-the-shelf counterparts _Random Forests_ and _Gradient Boosting Machines_."
   ]
  },
  {
   "cell_type": "markdown",
   "id": "d78ace84-58bb-440e-938a-b3e8863c7f5a",
   "metadata": {},
   "source": [
    "## Precursors\n",
    "\n",
    "For this lab, we will require the following libraries and components:"
   ]
  },
  {
   "cell_type": "code",
   "execution_count": 11,
   "id": "975d635f-5db2-4053-a750-4aeea7915084",
   "metadata": {},
   "outputs": [],
   "source": [
    "%matplotlib inline\n",
    "import numpy as np\n",
    "import pandas as pd\n",
    "import seaborn as sns\n",
    "\n",
    "from matplotlib import pyplot as plt\n",
    "\n",
    "from sklearn.datasets import make_friedman1, load_digits\n",
    "from sklearn.metrics import mean_squared_error\n",
    "\n",
    "from sklearn.tree import DecisionTreeRegressor\n",
    "from sklearn.ensemble import RandomForestRegressor, GradientBoostingRegressor\n",
    "\n",
    "#plt.rcParams.update({ 'font.size' : 18 })"
   ]
  },
  {
   "cell_type": "markdown",
   "id": "f74ed567",
   "metadata": {},
   "source": [
    "## Plotting feature data as images\n",
    "\n",
    "Often, you will be supplied \"image\" data as a one dimensional array. If we know the original dimensions of the image, it is often useful to reshape the data and plot it as a two-dimensional image. Here, you will do this using the `reshape` function (to convert the 1-D data into two dimensions), and the matplotlib [`imshow()`](https://matplotlib.org/stable/api/_as_gen/matplotlib.pyplot.imshow.html) function.\n",
    "\n",
    "Let's start by loading some image data - in this case, a range of 8x8 images of \"digits\" flattened into one dimension:"
   ]
  },
  {
   "cell_type": "code",
   "execution_count": 13,
   "id": "354ff73d",
   "metadata": {},
   "outputs": [
    {
     "name": "stdout",
     "output_type": "stream",
     "text": [
      "(25, 64)\n"
     ]
    },
    {
     "data": {
      "text/plain": [
       "{'data': array([[ 0.,  0.,  5., ...,  0.,  0.,  0.],\n",
       "        [ 0.,  0.,  0., ..., 10.,  0.,  0.],\n",
       "        [ 0.,  0.,  0., ..., 16.,  9.,  0.],\n",
       "        ...,\n",
       "        [ 0.,  0.,  1., ...,  6.,  0.,  0.],\n",
       "        [ 0.,  0.,  2., ..., 12.,  0.,  0.],\n",
       "        [ 0.,  0., 10., ..., 12.,  1.,  0.]]),\n",
       " 'target': array([0, 1, 2, ..., 8, 9, 8]),\n",
       " 'frame': None,\n",
       " 'feature_names': ['pixel_0_0',\n",
       "  'pixel_0_1',\n",
       "  'pixel_0_2',\n",
       "  'pixel_0_3',\n",
       "  'pixel_0_4',\n",
       "  'pixel_0_5',\n",
       "  'pixel_0_6',\n",
       "  'pixel_0_7',\n",
       "  'pixel_1_0',\n",
       "  'pixel_1_1',\n",
       "  'pixel_1_2',\n",
       "  'pixel_1_3',\n",
       "  'pixel_1_4',\n",
       "  'pixel_1_5',\n",
       "  'pixel_1_6',\n",
       "  'pixel_1_7',\n",
       "  'pixel_2_0',\n",
       "  'pixel_2_1',\n",
       "  'pixel_2_2',\n",
       "  'pixel_2_3',\n",
       "  'pixel_2_4',\n",
       "  'pixel_2_5',\n",
       "  'pixel_2_6',\n",
       "  'pixel_2_7',\n",
       "  'pixel_3_0',\n",
       "  'pixel_3_1',\n",
       "  'pixel_3_2',\n",
       "  'pixel_3_3',\n",
       "  'pixel_3_4',\n",
       "  'pixel_3_5',\n",
       "  'pixel_3_6',\n",
       "  'pixel_3_7',\n",
       "  'pixel_4_0',\n",
       "  'pixel_4_1',\n",
       "  'pixel_4_2',\n",
       "  'pixel_4_3',\n",
       "  'pixel_4_4',\n",
       "  'pixel_4_5',\n",
       "  'pixel_4_6',\n",
       "  'pixel_4_7',\n",
       "  'pixel_5_0',\n",
       "  'pixel_5_1',\n",
       "  'pixel_5_2',\n",
       "  'pixel_5_3',\n",
       "  'pixel_5_4',\n",
       "  'pixel_5_5',\n",
       "  'pixel_5_6',\n",
       "  'pixel_5_7',\n",
       "  'pixel_6_0',\n",
       "  'pixel_6_1',\n",
       "  'pixel_6_2',\n",
       "  'pixel_6_3',\n",
       "  'pixel_6_4',\n",
       "  'pixel_6_5',\n",
       "  'pixel_6_6',\n",
       "  'pixel_6_7',\n",
       "  'pixel_7_0',\n",
       "  'pixel_7_1',\n",
       "  'pixel_7_2',\n",
       "  'pixel_7_3',\n",
       "  'pixel_7_4',\n",
       "  'pixel_7_5',\n",
       "  'pixel_7_6',\n",
       "  'pixel_7_7'],\n",
       " 'target_names': array([0, 1, 2, 3, 4, 5, 6, 7, 8, 9]),\n",
       " 'images': array([[[ 0.,  0.,  5., ...,  1.,  0.,  0.],\n",
       "         [ 0.,  0., 13., ..., 15.,  5.,  0.],\n",
       "         [ 0.,  3., 15., ..., 11.,  8.,  0.],\n",
       "         ...,\n",
       "         [ 0.,  4., 11., ..., 12.,  7.,  0.],\n",
       "         [ 0.,  2., 14., ..., 12.,  0.,  0.],\n",
       "         [ 0.,  0.,  6., ...,  0.,  0.,  0.]],\n",
       " \n",
       "        [[ 0.,  0.,  0., ...,  5.,  0.,  0.],\n",
       "         [ 0.,  0.,  0., ...,  9.,  0.,  0.],\n",
       "         [ 0.,  0.,  3., ...,  6.,  0.,  0.],\n",
       "         ...,\n",
       "         [ 0.,  0.,  1., ...,  6.,  0.,  0.],\n",
       "         [ 0.,  0.,  1., ...,  6.,  0.,  0.],\n",
       "         [ 0.,  0.,  0., ..., 10.,  0.,  0.]],\n",
       " \n",
       "        [[ 0.,  0.,  0., ..., 12.,  0.,  0.],\n",
       "         [ 0.,  0.,  3., ..., 14.,  0.,  0.],\n",
       "         [ 0.,  0.,  8., ..., 16.,  0.,  0.],\n",
       "         ...,\n",
       "         [ 0.,  9., 16., ...,  0.,  0.,  0.],\n",
       "         [ 0.,  3., 13., ..., 11.,  5.,  0.],\n",
       "         [ 0.,  0.,  0., ..., 16.,  9.,  0.]],\n",
       " \n",
       "        ...,\n",
       " \n",
       "        [[ 0.,  0.,  1., ...,  1.,  0.,  0.],\n",
       "         [ 0.,  0., 13., ...,  2.,  1.,  0.],\n",
       "         [ 0.,  0., 16., ..., 16.,  5.,  0.],\n",
       "         ...,\n",
       "         [ 0.,  0., 16., ..., 15.,  0.,  0.],\n",
       "         [ 0.,  0., 15., ..., 16.,  0.,  0.],\n",
       "         [ 0.,  0.,  2., ...,  6.,  0.,  0.]],\n",
       " \n",
       "        [[ 0.,  0.,  2., ...,  0.,  0.,  0.],\n",
       "         [ 0.,  0., 14., ..., 15.,  1.,  0.],\n",
       "         [ 0.,  4., 16., ..., 16.,  7.,  0.],\n",
       "         ...,\n",
       "         [ 0.,  0.,  0., ..., 16.,  2.,  0.],\n",
       "         [ 0.,  0.,  4., ..., 16.,  2.,  0.],\n",
       "         [ 0.,  0.,  5., ..., 12.,  0.,  0.]],\n",
       " \n",
       "        [[ 0.,  0., 10., ...,  1.,  0.,  0.],\n",
       "         [ 0.,  2., 16., ...,  1.,  0.,  0.],\n",
       "         [ 0.,  0., 15., ..., 15.,  0.,  0.],\n",
       "         ...,\n",
       "         [ 0.,  4., 16., ..., 16.,  6.,  0.],\n",
       "         [ 0.,  8., 16., ..., 16.,  8.,  0.],\n",
       "         [ 0.,  1.,  8., ..., 12.,  1.,  0.]]]),\n",
       " 'DESCR': \".. _digits_dataset:\\n\\nOptical recognition of handwritten digits dataset\\n--------------------------------------------------\\n\\n**Data Set Characteristics:**\\n\\n    :Number of Instances: 1797\\n    :Number of Attributes: 64\\n    :Attribute Information: 8x8 image of integer pixels in the range 0..16.\\n    :Missing Attribute Values: None\\n    :Creator: E. Alpaydin (alpaydin '@' boun.edu.tr)\\n    :Date: July; 1998\\n\\nThis is a copy of the test set of the UCI ML hand-written digits datasets\\nhttps://archive.ics.uci.edu/ml/datasets/Optical+Recognition+of+Handwritten+Digits\\n\\nThe data set contains images of hand-written digits: 10 classes where\\neach class refers to a digit.\\n\\nPreprocessing programs made available by NIST were used to extract\\nnormalized bitmaps of handwritten digits from a preprinted form. From a\\ntotal of 43 people, 30 contributed to the training set and different 13\\nto the test set. 32x32 bitmaps are divided into nonoverlapping blocks of\\n4x4 and the number of on pixels are counted in each block. This generates\\nan input matrix of 8x8 where each element is an integer in the range\\n0..16. This reduces dimensionality and gives invariance to small\\ndistortions.\\n\\nFor info on NIST preprocessing routines, see M. D. Garris, J. L. Blue, G.\\nT. Candela, D. L. Dimmick, J. Geist, P. J. Grother, S. A. Janet, and C.\\nL. Wilson, NIST Form-Based Handprint Recognition System, NISTIR 5469,\\n1994.\\n\\n.. topic:: References\\n\\n  - C. Kaynak (1995) Methods of Combining Multiple Classifiers and Their\\n    Applications to Handwritten Digit Recognition, MSc Thesis, Institute of\\n    Graduate Studies in Science and Engineering, Bogazici University.\\n  - E. Alpaydin, C. Kaynak (1998) Cascading Classifiers, Kybernetika.\\n  - Ken Tang and Ponnuthurai N. Suganthan and Xi Yao and A. Kai Qin.\\n    Linear dimensionalityreduction using relevance weighted LDA. School of\\n    Electrical and Electronic Engineering Nanyang Technological University.\\n    2005.\\n  - Claudio Gentile. A New Approximate Maximal Margin Classification\\n    Algorithm. NIPS. 2000.\\n\"}"
      ]
     },
     "execution_count": 13,
     "metadata": {},
     "output_type": "execute_result"
    }
   ],
   "source": [
    "digits = load_digits()\n",
    "X, t = digits['data'], digits['target']\n",
    "\n",
    "images = X[0:25, :]\n",
    "print(images.shape)\n",
    "digits"
   ]
  },
  {
   "cell_type": "markdown",
   "id": "970ea07a",
   "metadata": {},
   "source": [
    "As can be seen, these images are 64 features in width, confirming the 8x8 shape. Let's now reshape the first element of `images` into its original 8x8 structure, and then plot it using `imshow`:"
   ]
  },
  {
   "cell_type": "code",
   "execution_count": 3,
   "id": "2e1c0699",
   "metadata": {},
   "outputs": [
    {
     "data": {
      "image/png": "[encoded data removed]",
      "text/plain": [
       "<Figure size 432x288 with 1 Axes>"
      ]
     },
     "metadata": {
      "needs_background": "light"
     },
     "output_type": "display_data"
    }
   ],
   "source": [
    "image_pixels = images.shape[1]\n",
    "image_dim = np.sqrt(image_pixels).astype(int)\n",
    "\n",
    "first_image = images[0, :].reshape(image_dim, image_dim)\n",
    "fig = plt.figure()\n",
    "plt.imshow(first_image, cmap='bone') ## the cmap='bone' is to produce a greyscale image\n",
    "plt.show()\n"
   ]
  },
  {
   "cell_type": "markdown",
   "id": "fc335b39",
   "metadata": {},
   "source": [
    "The `cmap` parameter of `imshow` changes its colour map - you can change this to something else if you prefer a more vibrant range of colours (see [this page](https://matplotlib.org/stable/tutorials/colors/colormaps.html) for more information)."
   ]
  },
  {
   "cell_type": "markdown",
   "id": "03ce597f",
   "metadata": {},
   "source": [
    "***<span style=\"color: #ce2227;\">TASK 1:</span>*** Create a 5x5 subplot of the first 25 images in the digits problem (i.e., the `images` array in the previous example). Use an enumerator and the `add_subplot()` function to make this easier (see the Tutorial 5 notebook for help on this)."
   ]
  },
  {
   "cell_type": "code",
   "execution_count": 62,
   "id": "bb2c49c1",
   "metadata": {},
   "outputs": [
    {
     "data": {
      "image/png": "[encoded data removed]",
      "text/plain": [
       "<Figure size 360x360 with 25 Axes>"
      ]
     },
     "metadata": {
      "needs_background": "light"
     },
     "output_type": "display_data"
    }
   ],
   "source": [
    "### WRITE YOUR CODE HERE\n",
    "fig = plt.figure(figsize = (5,5))\n",
    "\n",
    "for i, img in enumerate(images):\n",
    "    ax= fig.add_subplot(5,5, i+1)\n",
    "    plt.imshow(img.reshape(image_dim, image_dim))\n",
    "    \n",
    "    \n",
    "plt.show()"
   ]
  },
  {
   "cell_type": "markdown",
   "id": "04e4138e-0071-4f22-b947-aaf92847802c",
   "metadata": {
    "jp-MarkdownHeadingCollapsed": true,
    "tags": []
   },
   "source": [
    "## Recap: Bias, Variance, and the Bias-Variance Decomposition\n",
    "\n",
    "Let's first restrict ourselves to regression problems (the concept of bias and variance carries over to classification, but is MUCH easier to derive for regression problems). In regression, we typically measure loss (error) as some function of squared loss (e.g., MSE):\n",
    "$$\n",
    "MSE = L\\left(t, y\\right) = \\frac{1}{N}\\sum_{i=1}^{N}\\left(t_{i} - y_{i}\\right)^{2}\n",
    "$$\n",
    "where $t$ is our target value, and $y$ is the model prediction. Here, we are actually interested in the performance of the learning algorithm, rather than any specific model produced by the algorithm. Therefore, we need to measure performance over $M$ models. We can then define a typical or representative model for our $M$ models. For example, we could consider the mean prediction, $\\bar{y}_{i}$:\n",
    "$$\n",
    "\\bar{y}_{i} = \\frac{1}{M}\\sum_{j=1}^{M}y_{ij}\n",
    "$$\n",
    "which will also have an associated variance:\n",
    "$$\n",
    "Var(y_i) = \\frac{1}{M}\\sum_{j=1}^{M}\\left(\\bar{y}_{i} - y_{ij}\\right)^2\n",
    "$$\n",
    "\n",
    "We can then replace the single model prediction $y_i$ in our equation with these two concepts:\n",
    "\\begin{aligned}\n",
    "L\\left(t, y\\right) &= \\frac{1}{N}\\sum_{i=1}^{N}\\frac{1}{M}\\left(M\\left(t_{i} - \\bar{y}_{i}\\right)^2 + \\sum_{j=1}^{M}\\left(\\bar{y}_{i} - y_{ij}\\right)^2\\right) \\\\\n",
    "                   &= \\frac{1}{N}\\sum_{i=1}^{N}\\left(\\left(t_{i} - \\bar{y}_{i}\\right)^2 + \\frac{1}{M}\\sum_{j=1}^{M}\\left(\\bar{y}_{i} - y_{ij}\\right)^2\\right) \\\\\n",
    "                   &= \\frac{1}{N}\\sum_{i=1}^{N}\\left(t_{i} - \\bar{y}_{i}\\right)^2 + \\frac{1}{N}\\sum_{i=1}^{N}Var(y_i)\n",
    "\\end{aligned}\n",
    "\n",
    "We can see that our original loss of mean squared error has been decomposed into two terms: $\\frac{1}{N}\\sum_{i=1}^{N}\\left(t_{i} - \\bar{y}_{i}\\right)^2$, which is a term that is ***independent of any given model*** (we call this the <span style=\"color: #ce2227\">___bias___</span> term), and $\\frac{1}{N}\\sum_{i=1}^{N}\\frac{1}{M}\\sum_{j=1}^{M}\\left(\\bar{y}_{i} - y_{ij}\\right)^2$, which is a term that is ***independent of any test instances*** (we call this the <span style=\"color: #ce2227\">___variance___</span> of the learning method). As we will see, these two terms are usually conflicting in their goals - any attempt to minimise bias will be met with an increase in variance (and vice versa).\n",
    "\n",
    "***NOTE: it is important to remember that the concepts of bias and variance are used to describe the algorithm behaviour itself, rather than any specific model produced by the algorithm.***"
   ]
  },
  {
   "cell_type": "markdown",
   "id": "75da8930-d875-4f90-86c2-82b51f9b3e2b",
   "metadata": {},
   "source": [
    "## Data Setup\n",
    "\n",
    "All of the examples below will use a common set of data. While we could use cross validation to explore the concepts in this lab, the analysis is easier if we can use a set of training samples, and a single representative test set.\n",
    "\n",
    "We will use a synthetic problem generator for our analysis - scikit-learn provides one such generator as the function [`make_friedman1`](https://scikit-learn.org/stable/modules/generated/sklearn.datasets.make_friedman1.html).\n",
    "\n",
    "Let's first create a suitable test set:"
   ]
  },
  {
   "cell_type": "code",
   "execution_count": 5,
   "id": "188ded19-685b-4c35-9bd4-14dee681a1f0",
   "metadata": {},
   "outputs": [],
   "source": [
    "X_test, t_test = make_friedman1(n_samples=1000, random_state=1234)"
   ]
  },
  {
   "cell_type": "markdown",
   "id": "8e327b8e-bd5a-4559-b79c-4b83d01dfda6",
   "metadata": {},
   "source": [
    "Then, we need to create a set of smaller training samples (in this case 50 samples of 100 instances) and store them in the list $M$:"
   ]
  },
  {
   "cell_type": "code",
   "execution_count": 6,
   "id": "f99a02e4-01e4-4453-9fe1-19abf6638c09",
   "metadata": {},
   "outputs": [],
   "source": [
    "M = [ make_friedman1(n_samples=100, random_state=rng_state) for rng_state in range(50) ]"
   ]
  },
  {
   "cell_type": "markdown",
   "id": "dfb59cd1-14cb-4ffa-a2ce-3ce456a6d5e7",
   "metadata": {},
   "source": [
    "## Bias and Variance Decomposition of CART\n",
    "\n",
    "In this section, we walk you through the process of decomposing the error signal of CART into bias and variance. ***You will be expected to perform something similar for ensemble methods in the second assignment***.\n",
    "\n",
    "Let's start by working out a simple test error for a `DecisionTreeRegressor` over a range of `min_samples_split` using our training samples $M$ and our test set. First, let's define the target hyperparameter values:"
   ]
  },
  {
   "cell_type": "code",
   "execution_count": 7,
   "id": "d0f6e171",
   "metadata": {},
   "outputs": [],
   "source": [
    "examined_minsplits = np.arange(2, 101) ## [ 2, 3, 4, ..., 99, 100 ]"
   ]
  },
  {
   "cell_type": "markdown",
   "id": "bff1d085",
   "metadata": {},
   "source": [
    "Then, let's compute the test errors:"
   ]
  },
  {
   "cell_type": "code",
   "execution_count": 8,
   "id": "5d129b85",
   "metadata": {},
   "outputs": [
    {
     "data": {
      "image/png": "[encoded data removed]",
      "text/plain": [
       "<Figure size 432x288 with 1 Axes>"
      ]
     },
     "metadata": {
      "needs_background": "light"
     },
     "output_type": "display_data"
    }
   ],
   "source": [
    "res = []\n",
    "\n",
    "for m, (X_train, t_train) in enumerate(M):\n",
    "    for minsplit in examined_minsplits:\n",
    "        mdl = DecisionTreeRegressor(random_state=0, min_samples_split=minsplit).fit(X_train, t_train)\n",
    "        y_test = mdl.predict(X_test)\n",
    "        res.append({ 'minsplit' : minsplit, 'MSE' : mean_squared_error(t_test, y_test) })\n",
    "res = pd.DataFrame(res)\n",
    "\n",
    "sns.lineplot(data=res, x='minsplit', y='MSE')\n",
    "plt.show()"
   ]
  },
  {
   "cell_type": "markdown",
   "id": "fb0eec3f",
   "metadata": {},
   "source": [
    "As can be seen, the best value for `minsplit` appears to be around 15-20.  But what is the \"nature\" of this error? What makes up the error of this best model?\n",
    "\n",
    "***<span style=\"color: #ce2227;\">TASK 2:</span>*** under which regions of `minsplit` is the decision tree underfitting, and in which regions is it overfitting? How did you work this out?"
   ]
  },
  {
   "cell_type": "markdown",
   "id": "ae5d69fd",
   "metadata": {},
   "source": [
    "cannot find out which regions s overfitted/underfitted based on the current data"
   ]
  },
  {
   "cell_type": "markdown",
   "id": "e465356e",
   "metadata": {},
   "source": [
    "\n",
    "To complete a bias-variance decomposition, rather than compute the MSE after each set of predictions, we collect them up into a single data frame and compute statistics at the end. Let's start by gathering the required data:"
   ]
  },
  {
   "cell_type": "code",
   "execution_count": 9,
   "id": "fb0eec3f",
   "metadata": {},
   "outputs": [
    {
     "data": {
      "text/html": [
       "<div>\n",
       "<style scoped>\n",
       "    .dataframe tbody tr th:only-of-type {\n",
       "        vertical-align: middle;\n",
       "    }\n",
       "\n",
       "    .dataframe tbody tr th {\n",
       "        vertical-align: top;\n",
       "    }\n",
       "\n",
       "    .dataframe thead th {\n",
       "        text-align: right;\n",
       "    }\n",
       "</style>\n",
       "<table border=\"1\" class=\"dataframe\">\n",
       "  <thead>\n",
       "    <tr style=\"text-align: right;\">\n",
       "      <th></th>\n",
       "      <th>minsplit</th>\n",
       "      <th>i</th>\n",
       "      <th>y</th>\n",
       "    </tr>\n",
       "  </thead>\n",
       "  <tbody>\n",
       "    <tr>\n",
       "      <th>0</th>\n",
       "      <td>2</td>\n",
       "      <td>0</td>\n",
       "      <td>11.816621</td>\n",
       "    </tr>\n",
       "    <tr>\n",
       "      <th>1</th>\n",
       "      <td>2</td>\n",
       "      <td>1</td>\n",
       "      <td>18.416216</td>\n",
       "    </tr>\n",
       "    <tr>\n",
       "      <th>2</th>\n",
       "      <td>2</td>\n",
       "      <td>2</td>\n",
       "      <td>11.448695</td>\n",
       "    </tr>\n",
       "    <tr>\n",
       "      <th>3</th>\n",
       "      <td>2</td>\n",
       "      <td>3</td>\n",
       "      <td>10.228390</td>\n",
       "    </tr>\n",
       "    <tr>\n",
       "      <th>4</th>\n",
       "      <td>2</td>\n",
       "      <td>4</td>\n",
       "      <td>18.079764</td>\n",
       "    </tr>\n",
       "    <tr>\n",
       "      <th>...</th>\n",
       "      <td>...</td>\n",
       "      <td>...</td>\n",
       "      <td>...</td>\n",
       "    </tr>\n",
       "    <tr>\n",
       "      <th>4949995</th>\n",
       "      <td>100</td>\n",
       "      <td>995</td>\n",
       "      <td>16.366575</td>\n",
       "    </tr>\n",
       "    <tr>\n",
       "      <th>4949996</th>\n",
       "      <td>100</td>\n",
       "      <td>996</td>\n",
       "      <td>10.332843</td>\n",
       "    </tr>\n",
       "    <tr>\n",
       "      <th>4949997</th>\n",
       "      <td>100</td>\n",
       "      <td>997</td>\n",
       "      <td>16.366575</td>\n",
       "    </tr>\n",
       "    <tr>\n",
       "      <th>4949998</th>\n",
       "      <td>100</td>\n",
       "      <td>998</td>\n",
       "      <td>10.332843</td>\n",
       "    </tr>\n",
       "    <tr>\n",
       "      <th>4949999</th>\n",
       "      <td>100</td>\n",
       "      <td>999</td>\n",
       "      <td>16.366575</td>\n",
       "    </tr>\n",
       "  </tbody>\n",
       "</table>\n",
       "<p>4950000 rows × 3 columns</p>\n",
       "</div>"
      ],
      "text/plain": [
       "         minsplit    i          y\n",
       "0               2    0  11.816621\n",
       "1               2    1  18.416216\n",
       "2               2    2  11.448695\n",
       "3               2    3  10.228390\n",
       "4               2    4  18.079764\n",
       "...           ...  ...        ...\n",
       "4949995       100  995  16.366575\n",
       "4949996       100  996  10.332843\n",
       "4949997       100  997  16.366575\n",
       "4949998       100  998  10.332843\n",
       "4949999       100  999  16.366575\n",
       "\n",
       "[4950000 rows x 3 columns]"
      ]
     },
     "metadata": {},
     "output_type": "display_data"
    }
   ],
   "source": [
    "predictions = []\n",
    "\n",
    "for m, (X_train, t_train) in enumerate(M):\n",
    "    for minsplit in examined_minsplits:\n",
    "        mdl = DecisionTreeRegressor(random_state=0, min_samples_split=minsplit).fit(X_train, t_train)\n",
    "        y_test = mdl.predict(X_test)\n",
    "        for i, y in enumerate(y_test):\n",
    "            predictions.append({ 'minsplit' : minsplit, 'i': i, 'y' : y })\n",
    "predictions = pd.DataFrame(predictions)\n",
    "display(predictions)"
   ]
  },
  {
   "cell_type": "markdown",
   "id": "4e425e80",
   "metadata": {},
   "source": [
    "As you can see, we've generated a LOT of points for this. However, the computation from here is (relatively) straightforward. First, we need to extract the \"mean\" prediction for our learning algorithm on ech test instance. Because we have the data in a data frame, this can be done by grouping and aggregating:"
   ]
  },
  {
   "cell_type": "code",
   "execution_count": 10,
   "id": "f6540b85",
   "metadata": {},
   "outputs": [
    {
     "data": {
      "text/html": [
       "<div>\n",
       "<style scoped>\n",
       "    .dataframe tbody tr th:only-of-type {\n",
       "        vertical-align: middle;\n",
       "    }\n",
       "\n",
       "    .dataframe tbody tr th {\n",
       "        vertical-align: top;\n",
       "    }\n",
       "\n",
       "    .dataframe thead th {\n",
       "        text-align: right;\n",
       "    }\n",
       "</style>\n",
       "<table border=\"1\" class=\"dataframe\">\n",
       "  <thead>\n",
       "    <tr style=\"text-align: right;\">\n",
       "      <th></th>\n",
       "      <th>minsplit</th>\n",
       "      <th>i</th>\n",
       "      <th>ybar</th>\n",
       "    </tr>\n",
       "  </thead>\n",
       "  <tbody>\n",
       "    <tr>\n",
       "      <th>0</th>\n",
       "      <td>2</td>\n",
       "      <td>0</td>\n",
       "      <td>15.362833</td>\n",
       "    </tr>\n",
       "    <tr>\n",
       "      <th>1</th>\n",
       "      <td>2</td>\n",
       "      <td>1</td>\n",
       "      <td>17.453140</td>\n",
       "    </tr>\n",
       "    <tr>\n",
       "      <th>2</th>\n",
       "      <td>2</td>\n",
       "      <td>2</td>\n",
       "      <td>15.189404</td>\n",
       "    </tr>\n",
       "    <tr>\n",
       "      <th>3</th>\n",
       "      <td>2</td>\n",
       "      <td>3</td>\n",
       "      <td>14.076430</td>\n",
       "    </tr>\n",
       "    <tr>\n",
       "      <th>4</th>\n",
       "      <td>2</td>\n",
       "      <td>4</td>\n",
       "      <td>12.689638</td>\n",
       "    </tr>\n",
       "    <tr>\n",
       "      <th>...</th>\n",
       "      <td>...</td>\n",
       "      <td>...</td>\n",
       "      <td>...</td>\n",
       "    </tr>\n",
       "    <tr>\n",
       "      <th>98995</th>\n",
       "      <td>100</td>\n",
       "      <td>995</td>\n",
       "      <td>13.888253</td>\n",
       "    </tr>\n",
       "    <tr>\n",
       "      <th>98996</th>\n",
       "      <td>100</td>\n",
       "      <td>996</td>\n",
       "      <td>12.202084</td>\n",
       "    </tr>\n",
       "    <tr>\n",
       "      <th>98997</th>\n",
       "      <td>100</td>\n",
       "      <td>997</td>\n",
       "      <td>16.910236</td>\n",
       "    </tr>\n",
       "    <tr>\n",
       "      <th>98998</th>\n",
       "      <td>100</td>\n",
       "      <td>998</td>\n",
       "      <td>12.505869</td>\n",
       "    </tr>\n",
       "    <tr>\n",
       "      <th>98999</th>\n",
       "      <td>100</td>\n",
       "      <td>999</td>\n",
       "      <td>15.638989</td>\n",
       "    </tr>\n",
       "  </tbody>\n",
       "</table>\n",
       "<p>99000 rows × 3 columns</p>\n",
       "</div>"
      ],
      "text/plain": [
       "       minsplit    i       ybar\n",
       "0             2    0  15.362833\n",
       "1             2    1  17.453140\n",
       "2             2    2  15.189404\n",
       "3             2    3  14.076430\n",
       "4             2    4  12.689638\n",
       "...         ...  ...        ...\n",
       "98995       100  995  13.888253\n",
       "98996       100  996  12.202084\n",
       "98997       100  997  16.910236\n",
       "98998       100  998  12.505869\n",
       "98999       100  999  15.638989\n",
       "\n",
       "[99000 rows x 3 columns]"
      ]
     },
     "metadata": {},
     "output_type": "display_data"
    }
   ],
   "source": [
    "ybar = predictions.groupby([ 'minsplit', 'i' ]).agg(ybar=('y', 'mean')).reset_index()\n",
    "display(ybar)"
   ]
  },
  {
   "cell_type": "markdown",
   "id": "90698386",
   "metadata": {},
   "source": [
    "We also need a data frame of target values so that we can compute the required stats:"
   ]
  },
  {
   "cell_type": "code",
   "execution_count": 11,
   "id": "df73af32",
   "metadata": {},
   "outputs": [
    {
     "data": {
      "text/html": [
       "<div>\n",
       "<style scoped>\n",
       "    .dataframe tbody tr th:only-of-type {\n",
       "        vertical-align: middle;\n",
       "    }\n",
       "\n",
       "    .dataframe tbody tr th {\n",
       "        vertical-align: top;\n",
       "    }\n",
       "\n",
       "    .dataframe thead th {\n",
       "        text-align: right;\n",
       "    }\n",
       "</style>\n",
       "<table border=\"1\" class=\"dataframe\">\n",
       "  <thead>\n",
       "    <tr style=\"text-align: right;\">\n",
       "      <th></th>\n",
       "      <th>i</th>\n",
       "      <th>t</th>\n",
       "    </tr>\n",
       "  </thead>\n",
       "  <tbody>\n",
       "    <tr>\n",
       "      <th>0</th>\n",
       "      <td>0</td>\n",
       "      <td>15.487307</td>\n",
       "    </tr>\n",
       "    <tr>\n",
       "      <th>1</th>\n",
       "      <td>1</td>\n",
       "      <td>14.990197</td>\n",
       "    </tr>\n",
       "    <tr>\n",
       "      <th>2</th>\n",
       "      <td>2</td>\n",
       "      <td>18.443673</td>\n",
       "    </tr>\n",
       "    <tr>\n",
       "      <th>3</th>\n",
       "      <td>3</td>\n",
       "      <td>16.072043</td>\n",
       "    </tr>\n",
       "    <tr>\n",
       "      <th>4</th>\n",
       "      <td>4</td>\n",
       "      <td>14.165877</td>\n",
       "    </tr>\n",
       "    <tr>\n",
       "      <th>...</th>\n",
       "      <td>...</td>\n",
       "      <td>...</td>\n",
       "    </tr>\n",
       "    <tr>\n",
       "      <th>995</th>\n",
       "      <td>995</td>\n",
       "      <td>11.051109</td>\n",
       "    </tr>\n",
       "    <tr>\n",
       "      <th>996</th>\n",
       "      <td>996</td>\n",
       "      <td>13.160215</td>\n",
       "    </tr>\n",
       "    <tr>\n",
       "      <th>997</th>\n",
       "      <td>997</td>\n",
       "      <td>19.736977</td>\n",
       "    </tr>\n",
       "    <tr>\n",
       "      <th>998</th>\n",
       "      <td>998</td>\n",
       "      <td>15.752805</td>\n",
       "    </tr>\n",
       "    <tr>\n",
       "      <th>999</th>\n",
       "      <td>999</td>\n",
       "      <td>8.428744</td>\n",
       "    </tr>\n",
       "  </tbody>\n",
       "</table>\n",
       "<p>1000 rows × 2 columns</p>\n",
       "</div>"
      ],
      "text/plain": [
       "       i          t\n",
       "0      0  15.487307\n",
       "1      1  14.990197\n",
       "2      2  18.443673\n",
       "3      3  16.072043\n",
       "4      4  14.165877\n",
       "..   ...        ...\n",
       "995  995  11.051109\n",
       "996  996  13.160215\n",
       "997  997  19.736977\n",
       "998  998  15.752805\n",
       "999  999   8.428744\n",
       "\n",
       "[1000 rows x 2 columns]"
      ]
     },
     "metadata": {},
     "output_type": "display_data"
    }
   ],
   "source": [
    "t = pd.DataFrame({ 'i' : range(len(t_test)), 't' : t_test })\n",
    "display(t)"
   ]
  },
  {
   "cell_type": "markdown",
   "id": "a6ae26de",
   "metadata": {},
   "source": [
    "Now, to compute the bias-variance decomposition, we first join our raw predictions, mean predictions, and targets into a single data frame:"
   ]
  },
  {
   "cell_type": "code",
   "execution_count": 12,
   "id": "aa950a03",
   "metadata": {},
   "outputs": [
    {
     "data": {
      "text/html": [
       "<div>\n",
       "<style scoped>\n",
       "    .dataframe tbody tr th:only-of-type {\n",
       "        vertical-align: middle;\n",
       "    }\n",
       "\n",
       "    .dataframe tbody tr th {\n",
       "        vertical-align: top;\n",
       "    }\n",
       "\n",
       "    .dataframe thead th {\n",
       "        text-align: right;\n",
       "    }\n",
       "</style>\n",
       "<table border=\"1\" class=\"dataframe\">\n",
       "  <thead>\n",
       "    <tr style=\"text-align: right;\">\n",
       "      <th></th>\n",
       "      <th>minsplit</th>\n",
       "      <th>i</th>\n",
       "      <th>y</th>\n",
       "      <th>ybar</th>\n",
       "      <th>t</th>\n",
       "    </tr>\n",
       "  </thead>\n",
       "  <tbody>\n",
       "    <tr>\n",
       "      <th>0</th>\n",
       "      <td>2</td>\n",
       "      <td>0</td>\n",
       "      <td>11.816621</td>\n",
       "      <td>15.362833</td>\n",
       "      <td>15.487307</td>\n",
       "    </tr>\n",
       "    <tr>\n",
       "      <th>1</th>\n",
       "      <td>2</td>\n",
       "      <td>0</td>\n",
       "      <td>14.011984</td>\n",
       "      <td>15.362833</td>\n",
       "      <td>15.487307</td>\n",
       "    </tr>\n",
       "    <tr>\n",
       "      <th>2</th>\n",
       "      <td>2</td>\n",
       "      <td>0</td>\n",
       "      <td>10.688237</td>\n",
       "      <td>15.362833</td>\n",
       "      <td>15.487307</td>\n",
       "    </tr>\n",
       "    <tr>\n",
       "      <th>3</th>\n",
       "      <td>2</td>\n",
       "      <td>0</td>\n",
       "      <td>17.106745</td>\n",
       "      <td>15.362833</td>\n",
       "      <td>15.487307</td>\n",
       "    </tr>\n",
       "    <tr>\n",
       "      <th>4</th>\n",
       "      <td>2</td>\n",
       "      <td>0</td>\n",
       "      <td>16.108148</td>\n",
       "      <td>15.362833</td>\n",
       "      <td>15.487307</td>\n",
       "    </tr>\n",
       "    <tr>\n",
       "      <th>...</th>\n",
       "      <td>...</td>\n",
       "      <td>...</td>\n",
       "      <td>...</td>\n",
       "      <td>...</td>\n",
       "      <td>...</td>\n",
       "    </tr>\n",
       "    <tr>\n",
       "      <th>4949995</th>\n",
       "      <td>100</td>\n",
       "      <td>999</td>\n",
       "      <td>10.732669</td>\n",
       "      <td>15.638989</td>\n",
       "      <td>8.428744</td>\n",
       "    </tr>\n",
       "    <tr>\n",
       "      <th>4949996</th>\n",
       "      <td>100</td>\n",
       "      <td>999</td>\n",
       "      <td>15.242237</td>\n",
       "      <td>15.638989</td>\n",
       "      <td>8.428744</td>\n",
       "    </tr>\n",
       "    <tr>\n",
       "      <th>4949997</th>\n",
       "      <td>100</td>\n",
       "      <td>999</td>\n",
       "      <td>17.366434</td>\n",
       "      <td>15.638989</td>\n",
       "      <td>8.428744</td>\n",
       "    </tr>\n",
       "    <tr>\n",
       "      <th>4949998</th>\n",
       "      <td>100</td>\n",
       "      <td>999</td>\n",
       "      <td>18.115306</td>\n",
       "      <td>15.638989</td>\n",
       "      <td>8.428744</td>\n",
       "    </tr>\n",
       "    <tr>\n",
       "      <th>4949999</th>\n",
       "      <td>100</td>\n",
       "      <td>999</td>\n",
       "      <td>16.366575</td>\n",
       "      <td>15.638989</td>\n",
       "      <td>8.428744</td>\n",
       "    </tr>\n",
       "  </tbody>\n",
       "</table>\n",
       "<p>4950000 rows × 5 columns</p>\n",
       "</div>"
      ],
      "text/plain": [
       "         minsplit    i          y       ybar          t\n",
       "0               2    0  11.816621  15.362833  15.487307\n",
       "1               2    0  14.011984  15.362833  15.487307\n",
       "2               2    0  10.688237  15.362833  15.487307\n",
       "3               2    0  17.106745  15.362833  15.487307\n",
       "4               2    0  16.108148  15.362833  15.487307\n",
       "...           ...  ...        ...        ...        ...\n",
       "4949995       100  999  10.732669  15.638989   8.428744\n",
       "4949996       100  999  15.242237  15.638989   8.428744\n",
       "4949997       100  999  17.366434  15.638989   8.428744\n",
       "4949998       100  999  18.115306  15.638989   8.428744\n",
       "4949999       100  999  16.366575  15.638989   8.428744\n",
       "\n",
       "[4950000 rows x 5 columns]"
      ]
     },
     "execution_count": 12,
     "metadata": {},
     "output_type": "execute_result"
    }
   ],
   "source": [
    "decomp = predictions.merge(ybar, on=[ 'minsplit', 'i' ]).merge(t, on='i')\n",
    "decomp"
   ]
  },
  {
   "cell_type": "markdown",
   "id": "82aec715",
   "metadata": {},
   "source": [
    "We can then compute and add the required fields for total error (MSE), bias and variance:"
   ]
  },
  {
   "cell_type": "code",
   "execution_count": 13,
   "id": "47211b1c",
   "metadata": {},
   "outputs": [],
   "source": [
    "decomp['mse'] = (decomp['t'] - decomp['y'])**2      ## total error (MSE - target - raw prediction)\n",
    "decomp['bias'] = (decomp['t'] - decomp['ybar'])**2  ## bias (target - mean prediction)\n",
    "decomp['var'] = (decomp['y'] - decomp['ybar'])**2   ## variance"
   ]
  },
  {
   "cell_type": "markdown",
   "id": "4d4d22f8",
   "metadata": {},
   "source": [
    "and from this data frame, we can group by the hyperparameter `minsplit` and compute the stats:"
   ]
  },
  {
   "cell_type": "code",
   "execution_count": 14,
   "id": "0d6ca4d5",
   "metadata": {},
   "outputs": [
    {
     "data": {
      "text/html": [
       "<div>\n",
       "<style scoped>\n",
       "    .dataframe tbody tr th:only-of-type {\n",
       "        vertical-align: middle;\n",
       "    }\n",
       "\n",
       "    .dataframe tbody tr th {\n",
       "        vertical-align: top;\n",
       "    }\n",
       "\n",
       "    .dataframe thead th {\n",
       "        text-align: right;\n",
       "    }\n",
       "</style>\n",
       "<table border=\"1\" class=\"dataframe\">\n",
       "  <thead>\n",
       "    <tr style=\"text-align: right;\">\n",
       "      <th></th>\n",
       "      <th>minsplit</th>\n",
       "      <th>mse</th>\n",
       "      <th>bias</th>\n",
       "      <th>var</th>\n",
       "    </tr>\n",
       "  </thead>\n",
       "  <tbody>\n",
       "    <tr>\n",
       "      <th>0</th>\n",
       "      <td>2</td>\n",
       "      <td>15.052876</td>\n",
       "      <td>4.928590</td>\n",
       "      <td>10.124286</td>\n",
       "    </tr>\n",
       "    <tr>\n",
       "      <th>1</th>\n",
       "      <td>3</td>\n",
       "      <td>14.868904</td>\n",
       "      <td>4.914693</td>\n",
       "      <td>9.954211</td>\n",
       "    </tr>\n",
       "    <tr>\n",
       "      <th>2</th>\n",
       "      <td>4</td>\n",
       "      <td>14.687111</td>\n",
       "      <td>4.853613</td>\n",
       "      <td>9.833498</td>\n",
       "    </tr>\n",
       "    <tr>\n",
       "      <th>3</th>\n",
       "      <td>5</td>\n",
       "      <td>14.473490</td>\n",
       "      <td>4.862059</td>\n",
       "      <td>9.611431</td>\n",
       "    </tr>\n",
       "    <tr>\n",
       "      <th>4</th>\n",
       "      <td>6</td>\n",
       "      <td>14.255720</td>\n",
       "      <td>4.943877</td>\n",
       "      <td>9.311843</td>\n",
       "    </tr>\n",
       "    <tr>\n",
       "      <th>...</th>\n",
       "      <td>...</td>\n",
       "      <td>...</td>\n",
       "      <td>...</td>\n",
       "      <td>...</td>\n",
       "    </tr>\n",
       "    <tr>\n",
       "      <th>94</th>\n",
       "      <td>96</td>\n",
       "      <td>19.832699</td>\n",
       "      <td>15.656519</td>\n",
       "      <td>4.176179</td>\n",
       "    </tr>\n",
       "    <tr>\n",
       "      <th>95</th>\n",
       "      <td>97</td>\n",
       "      <td>19.832699</td>\n",
       "      <td>15.656519</td>\n",
       "      <td>4.176179</td>\n",
       "    </tr>\n",
       "    <tr>\n",
       "      <th>96</th>\n",
       "      <td>98</td>\n",
       "      <td>19.832699</td>\n",
       "      <td>15.656519</td>\n",
       "      <td>4.176179</td>\n",
       "    </tr>\n",
       "    <tr>\n",
       "      <th>97</th>\n",
       "      <td>99</td>\n",
       "      <td>19.832699</td>\n",
       "      <td>15.656519</td>\n",
       "      <td>4.176179</td>\n",
       "    </tr>\n",
       "    <tr>\n",
       "      <th>98</th>\n",
       "      <td>100</td>\n",
       "      <td>19.832699</td>\n",
       "      <td>15.656519</td>\n",
       "      <td>4.176179</td>\n",
       "    </tr>\n",
       "  </tbody>\n",
       "</table>\n",
       "<p>99 rows × 4 columns</p>\n",
       "</div>"
      ],
      "text/plain": [
       "    minsplit        mse       bias        var\n",
       "0          2  15.052876   4.928590  10.124286\n",
       "1          3  14.868904   4.914693   9.954211\n",
       "2          4  14.687111   4.853613   9.833498\n",
       "3          5  14.473490   4.862059   9.611431\n",
       "4          6  14.255720   4.943877   9.311843\n",
       "..       ...        ...        ...        ...\n",
       "94        96  19.832699  15.656519   4.176179\n",
       "95        97  19.832699  15.656519   4.176179\n",
       "96        98  19.832699  15.656519   4.176179\n",
       "97        99  19.832699  15.656519   4.176179\n",
       "98       100  19.832699  15.656519   4.176179\n",
       "\n",
       "[99 rows x 4 columns]"
      ]
     },
     "execution_count": 14,
     "metadata": {},
     "output_type": "execute_result"
    }
   ],
   "source": [
    "decomp = decomp.groupby('minsplit').agg({ 'mse' : np.mean, 'bias' : np.mean, 'var' : np.mean }).reset_index()\n",
    "decomp"
   ]
  },
  {
   "cell_type": "markdown",
   "id": "6395b323",
   "metadata": {},
   "source": [
    "And now we can analyse the results, for example via a plot:"
   ]
  },
  {
   "cell_type": "code",
   "execution_count": 15,
   "id": "3b3f3cfc",
   "metadata": {},
   "outputs": [
    {
     "name": "stdout",
     "output_type": "stream",
     "text": [
      "The best minsplit value in terms of MSE is: 16\n"
     ]
    },
    {
     "data": {
      "image/png": "[encoded data removed]",
      "text/plain": [
       "<Figure size 432x288 with 1 Axes>"
      ]
     },
     "metadata": {
      "needs_background": "light"
     },
     "output_type": "display_data"
    }
   ],
   "source": [
    "best_minsplit = decomp[decomp['mse']==decomp['mse'].min()]['minsplit'].values[0] ## identify the best minsplit value by the row with the lowest MSE\n",
    "print(f'The best minsplit value in terms of MSE is: {best_minsplit}')\n",
    "\n",
    "sns.lineplot(data=decomp.melt(id_vars='minsplit'), x='minsplit', y='value', hue='variable').set(xlabel='$minsplit$', ylabel='Error')\n",
    "plt.axvline(x=best_minsplit, c='black', linestyle='--', zorder=1)\n",
    "plt.legend(title='Component', labels=['MSE (total)', 'Bias', 'Variance'])\n",
    "plt.show()"
   ]
  },
  {
   "cell_type": "markdown",
   "id": "fb0eec3f",
   "metadata": {},
   "source": [
    "As can be seen, the best value for `minsplit`, according to total error (MSE) again appears to be around 15-20.  But what is the \"nature\" of this error? What makes up the error of this best model?\n",
    "\n",
    "***<span style=\"color: #ce2227;\">TASK 3:</span>*** Based on the additional information of bias and variance, under which regions of `minsplit` is the decision tree underfitting, and in which regions is it overfitting?"
   ]
  },
  {
   "cell_type": "markdown",
   "id": "ae5d69fd",
   "metadata": {},
   "source": [
    "as shown on the graph the more minsplit means the higher mse and bias so when it gets to that point, the minsplit is overfitted but as shown at the start of the graph, error is high showing that it is under fitted so when the error on average is high at the start it is underfitted and when the error is high towards the end it is overfitted."
   ]
  },
  {
   "cell_type": "markdown",
   "id": "090b8178",
   "metadata": {},
   "source": [
    "___The whole process of decomposing error into bias and variance is repeated below in one cell___"
   ]
  },
  {
   "cell_type": "code",
   "execution_count": 16,
   "id": "60a20f89-8b86-42fe-8835-090563205f7e",
   "metadata": {},
   "outputs": [
    {
     "name": "stdout",
     "output_type": "stream",
     "text": [
      "The best minsplit value in terms of MSE is: 16\n"
     ]
    },
    {
     "data": {
      "image/png": "[encoded data removed]",
      "text/plain": [
       "<Figure size 432x288 with 1 Axes>"
      ]
     },
     "metadata": {
      "needs_background": "light"
     },
     "output_type": "display_data"
    }
   ],
   "source": [
    "predictions = []\n",
    "\n",
    "for m, (X_train, t_train) in enumerate(M):\n",
    "    for minsplit in examined_minsplits:\n",
    "        mdl = DecisionTreeRegressor(random_state=0, min_samples_split=minsplit).fit(X_train, t_train)\n",
    "        y_test = mdl.predict(X_test)\n",
    "        for i, y in enumerate(y_test):\n",
    "            predictions.append({ 'minsplit' : minsplit, 'i': i, 'y' : y })\n",
    "predictions = pd.DataFrame(predictions)\n",
    "\n",
    "ybar = predictions.groupby([ 'minsplit', 'i' ]).agg(ybar=('y', 'mean')).reset_index()\n",
    "t = pd.DataFrame({ 'i' : range(len(t_test)), 't' : t_test })\n",
    "\n",
    "decomp = predictions.merge(ybar, on=[ 'minsplit', 'i' ]).merge(t, on='i')\n",
    "\n",
    "decomp['mse'] = (decomp['t'] - decomp['y'])**2      ## total error (MSE - target - raw prediction)\n",
    "decomp['bias'] = (decomp['t'] - decomp['ybar'])**2  ## bias (target - mean prediction)\n",
    "decomp['var'] = (decomp['y'] - decomp['ybar'])**2   ## variance\n",
    "\n",
    "decomp = decomp.groupby('minsplit').agg({ 'mse' : np.mean, 'bias' : np.mean, 'var' : np.mean }).reset_index()\n",
    "\n",
    "best_minsplit = decomp[decomp['mse']==decomp['mse'].min()]['minsplit'].values[0] ## identify the best minsplit value by the row with the lowest MSE\n",
    "print(f'The best minsplit value in terms of MSE is: {best_minsplit}')\n",
    "\n",
    "sns.lineplot(data=decomp.melt(id_vars='minsplit'), x='minsplit', y='value', hue='variable').set(xlabel='$minsplit$', ylabel='Error')\n",
    "plt.axvline(x=best_minsplit, c='black', linestyle='--', zorder=1)\n",
    "plt.legend(title='Component', labels=['MSE (total)', 'Bias', 'Variance'])\n",
    "plt.show()"
   ]
  },
  {
   "cell_type": "markdown",
   "id": "6ca8a039-3be4-4818-a425-a08262564ed2",
   "metadata": {},
   "source": [
    "This whole process can be used as a template for measuring the bias and variance of any learning method. This might come in handy later in the lab, and for the second assignment."
   ]
  },
  {
   "cell_type": "markdown",
   "id": "d46624a4",
   "metadata": {},
   "source": [
    "## Precursor - generating a bootstrap sample\n",
    "\n",
    "A bootstrap sample is simply a sample from a population with replacement. In other words, if we have a set of $N$ things, we simply sample from this set $N$ times, with replacement (i.e., we may sample the same thing from the set multiple times).\n",
    "\n",
    "Generating a bootstrap sample is fairly straightforward if we use numpy's [choice](https://numpy.org/doc/stable/reference/random/generated/numpy.random.choice.html) operator. We start by defining a random number generator:"
   ]
  },
  {
   "cell_type": "code",
   "execution_count": 17,
   "id": "90dc6ebd",
   "metadata": {},
   "outputs": [],
   "source": [
    "rng = np.random.default_rng(seed=1234) ## as always, the seed is to make the random sequence repeatible"
   ]
  },
  {
   "cell_type": "markdown",
   "id": "85c50512",
   "metadata": {},
   "source": [
    "Then, if we have a set `S`, we generate a bootstrap sample as follows:"
   ]
  },
  {
   "cell_type": "code",
   "execution_count": 18,
   "id": "76196ebc",
   "metadata": {},
   "outputs": [
    {
     "name": "stdout",
     "output_type": "stream",
     "text": [
      "['a' 'b' 'c' 'd' 'e' 'f' 'g' 'h' 'i' 'j']\n",
      "['j' 'j' 'j' 'd' 'b' 'j' 'b' 'c' 'b' 'd']\n"
     ]
    }
   ],
   "source": [
    "S = np.array([ 'a', 'b', 'c', 'd', 'e', 'f', 'g', 'h', 'i', 'j' ])\n",
    "N = len(S)\n",
    "B = rng.choice(N, size=N, replace=True)\n",
    "print(S)\n",
    "print(S[B])"
   ]
  },
  {
   "cell_type": "markdown",
   "id": "8d3e80c3",
   "metadata": {},
   "source": [
    "Notice that some instances are sampled multiple times, while others are missed out.\n",
    "\n",
    "So, for a given training set `X` and `t` (of size `N`), we bootstrap sample as follows:"
   ]
  },
  {
   "cell_type": "code",
   "execution_count": 19,
   "id": "6eae2fab",
   "metadata": {},
   "outputs": [],
   "source": [
    "X_train, t_train = M[0] ## get the first of our training samples, it could be any of them.\n",
    "\n",
    "N = len(X_train)\n",
    "B = rng.choice(N, size=N, replace=True)\n",
    "\n",
    "X_boot, t_boot = X_train[B, :], t_train[B]"
   ]
  },
  {
   "cell_type": "markdown",
   "id": "8abddcd4",
   "metadata": {},
   "source": [
    "Now, we can build a model on `X_boot` and `t_boot`, just as before. However, if the learning method is _unstable_ (i.e., it builds a different model in response to a different data sample), then we can expect the resulting model to be somewhat different than the model that would have been built from the original data set. We will use this idea to our advantage in the next step when creating bagging ensembles."
   ]
  },
  {
   "cell_type": "markdown",
   "id": "daf12351-dc5f-4e98-9900-2c4b4c8f0081",
   "metadata": {},
   "source": [
    "## Roll Your Own Ensemble: Bagging\n",
    "\n",
    "In the previous step, we developed $M$ models, each trainined on a separate set of data, and used this to compute the bias and variance of the learning method. An interesting thing happens if we try to aggregate those models into a single prediction, rather than keeping them separate. Let's look at what happens if we combine the model predictions:"
   ]
  },
  {
   "cell_type": "code",
   "execution_count": 20,
   "id": "6cf1d3ff",
   "metadata": {},
   "outputs": [
    {
     "data": {
      "image/png": "[encoded data removed]",
      "text/plain": [
       "<Figure size 432x288 with 1 Axes>"
      ]
     },
     "metadata": {
      "needs_background": "light"
     },
     "output_type": "display_data"
    }
   ],
   "source": [
    "mdl = DecisionTreeRegressor(min_samples_split=2, random_state=0)\n",
    "\n",
    "perf = []\n",
    "\n",
    "y_test = np.zeros(len(t_test)) ## start with a container to hold the aggregate predictions.\n",
    "for i, (X_train, t_train) in enumerate(M):\n",
    "    mdl.fit(X_train, t_train)\n",
    "    y_test += (mdl.predict(X_test) - y_test) / (i + 1) # update the average prediction with the predictions of the latest model\n",
    "    perf.append({ 'samples' : i, 'MSE' : mean_squared_error(t_test, y_test) })\n",
    "\n",
    "perf = pd.DataFrame(perf)\n",
    "\n",
    "sns.lineplot(data=perf, x='samples', y='MSE')\n",
    "plt.show()"
   ]
  },
  {
   "cell_type": "markdown",
   "id": "e399b7d9",
   "metadata": {},
   "source": [
    "Notice that, as we increase the number of prediction models, our total error decreases.\n",
    "\n",
    "Let's repeat this task, but this time include the error of each individual model as we go:\n",
    "\n",
    "***<span style=\"color: #ce2227;\">TASK 4:</span>*** Repeat the aggregation task above, but include the individual model error at each step:"
   ]
  },
  {
   "cell_type": "code",
   "execution_count": 63,
   "id": "6cf1d3ff",
   "metadata": {},
   "outputs": [
    {
     "name": "stdout",
     "output_type": "stream",
     "text": [
      "{'samples': 0, 'MSE': 16.615555362979}\n",
      "{'samples': 1, 'MSE': 9.539887108283827}\n",
      "{'samples': 2, 'MSE': 7.548910409040847}\n",
      "{'samples': 3, 'MSE': 7.130784884049002}\n",
      "{'samples': 4, 'MSE': 6.610117458665732}\n",
      "{'samples': 5, 'MSE': 6.320499468643297}\n",
      "{'samples': 6, 'MSE': 6.135784101153793}\n",
      "{'samples': 7, 'MSE': 6.063093867601095}\n",
      "{'samples': 8, 'MSE': 5.792108943593496}\n",
      "{'samples': 9, 'MSE': 5.548747028093164}\n",
      "{'samples': 10, 'MSE': 5.4550622062370495}\n",
      "{'samples': 11, 'MSE': 5.328057956310506}\n",
      "{'samples': 12, 'MSE': 5.278611801031932}\n",
      "{'samples': 13, 'MSE': 5.172321472282837}\n",
      "{'samples': 14, 'MSE': 5.190920613587586}\n",
      "{'samples': 15, 'MSE': 5.217810958177861}\n",
      "{'samples': 16, 'MSE': 5.227196256437129}\n",
      "{'samples': 17, 'MSE': 5.301774180271685}\n",
      "{'samples': 18, 'MSE': 5.201368869440301}\n",
      "{'samples': 19, 'MSE': 5.21509488135634}\n",
      "{'samples': 20, 'MSE': 5.1609982668281145}\n",
      "{'samples': 21, 'MSE': 5.173301052632749}\n",
      "{'samples': 22, 'MSE': 5.171132620399856}\n",
      "{'samples': 23, 'MSE': 5.13796547378605}\n",
      "{'samples': 24, 'MSE': 5.12689364177571}\n",
      "{'samples': 25, 'MSE': 5.082312453802702}\n",
      "{'samples': 26, 'MSE': 5.107142588821949}\n",
      "{'samples': 27, 'MSE': 5.034778889609555}\n",
      "{'samples': 28, 'MSE': 4.973455520263346}\n",
      "{'samples': 29, 'MSE': 4.951768150634987}\n",
      "{'samples': 30, 'MSE': 4.9445146379834695}\n",
      "{'samples': 31, 'MSE': 4.93520659959112}\n",
      "{'samples': 32, 'MSE': 4.918751329717096}\n",
      "{'samples': 33, 'MSE': 4.923662439672771}\n",
      "{'samples': 34, 'MSE': 4.90470092159629}\n",
      "{'samples': 35, 'MSE': 4.933942311122414}\n",
      "{'samples': 36, 'MSE': 4.89549105937379}\n",
      "{'samples': 37, 'MSE': 4.890329665140078}\n",
      "{'samples': 38, 'MSE': 4.890096366664212}\n",
      "{'samples': 39, 'MSE': 4.902521310202182}\n",
      "{'samples': 40, 'MSE': 4.926570525060329}\n",
      "{'samples': 41, 'MSE': 4.9119451461448715}\n",
      "{'samples': 42, 'MSE': 4.9118257507871075}\n",
      "{'samples': 43, 'MSE': 4.949479873410801}\n",
      "{'samples': 44, 'MSE': 4.9237142668576945}\n",
      "{'samples': 45, 'MSE': 4.914250431589894}\n",
      "{'samples': 46, 'MSE': 4.887682867386212}\n",
      "{'samples': 47, 'MSE': 4.9255394213271835}\n",
      "{'samples': 48, 'MSE': 4.93147683373733}\n",
      "{'samples': 49, 'MSE': 4.92858981276564}\n"
     ]
    },
    {
     "data": {
      "image/png": "[encoded data removed]",
      "text/plain": [
       "<Figure size 432x288 with 1 Axes>"
      ]
     },
     "metadata": {
      "needs_background": "light"
     },
     "output_type": "display_data"
    }
   ],
   "source": [
    "mdl = DecisionTreeRegressor(min_samples_split=2, random_state=0)\n",
    "\n",
    "perf = []\n",
    "\n",
    "y_test = np.zeros(len(t_test)) ## start with a container to hold the aggregate predictions.\n",
    "for i, (X_train, t_train) in enumerate(M):\n",
    "    mdl.fit(X_train, t_train)\n",
    "    y_test += (mdl.predict(X_test) - y_test) / (i + 1) # update the average prediction with the predictions of the latest model\n",
    "    perf.append({ 'samples' : i, 'MSE' : mean_squared_error(t_test, y_test) })\n",
    "    print(({ 'samples' : i, 'MSE' : mean_squared_error(t_test, y_test) }))\n",
    "\n",
    "perf = pd.DataFrame(perf)\n",
    "\n",
    "sns.lineplot(data=perf, x='samples', y='MSE')\n",
    "plt.show()"
   ]
  },
  {
   "cell_type": "markdown",
   "id": "3bd1cb9c",
   "metadata": {},
   "source": [
    "If you have done this correctly, you should see that the individual errors all hover around a common value (typically around 12-16), but their error is greatly reduced when aggregated. ___<span style='color: #ce2227'>Why do you think this is?</span>___"
   ]
  },
  {
   "cell_type": "markdown",
   "id": "e4ca14d7",
   "metadata": {},
   "source": [
    "### Bagging\n",
    "In this section, you will write code to implement your own version of bagging. Specifically, you will create a collection of CART learners, each trained on a different resample with replacement of the training data (a ***booststrap*** sample) and parameterised to overfit to the training sample. By averaging the predictions of the ensemble members, we expect their errors in overfitting to their specific training sample will cancel each other out, leaving a more accurate aggregate prediction.\n",
    "\n",
    "In the previous section you aggregated multiple models trained on multiple samples to reduce error. However, we usually don't have access to multiple sets of data, we're given a single set of data for training. However, we can use the concept of a bootstrap to simulate having multiple data sets at our disposal. Let's modify the above example slightly, so that it uses only one set of data but generates multiple bootstrap samples from it:\n"
   ]
  },
  {
   "cell_type": "code",
   "execution_count": 22,
   "id": "948c8aa7",
   "metadata": {},
   "outputs": [
    {
     "data": {
      "image/png": "[encoded data removed]",
      "text/plain": [
       "<Figure size 432x288 with 1 Axes>"
      ]
     },
     "metadata": {
      "needs_background": "light"
     },
     "output_type": "display_data"
    }
   ],
   "source": [
    "rnd = np.random.default_rng(seed=1234)\n",
    "mdl = DecisionTreeRegressor(min_samples_split=2, random_state=0)\n",
    "\n",
    "perf = []\n",
    "\n",
    "X_train, t_train = M[0]\n",
    "\n",
    "n_boot = len(M) ## number of bootstrap samples to obtain\n",
    "\n",
    "y_test = np.zeros(len(t_test)) ## start with a container to hold the aggregate predictions.\n",
    "for i in range(n_boot):\n",
    "    B = rng.choice(len(X_train), len(X_train), replace=True)\n",
    "    X_boot, t_boot = X_train[B, :], t_train[B]\n",
    "    mdl.fit(X_boot, t_boot)\n",
    "    y_test += (mdl.predict(X_test) - y_test) / (i + 1) # update the average prediction with the predictions of the latest model\n",
    "    perf.append({ 'samples' : i, 'MSE' : mean_squared_error(t_test, y_test) })\n",
    "\n",
    "perf = pd.DataFrame(perf)\n",
    "\n",
    "sns.lineplot(data=perf, x='samples', y='MSE')\n",
    "plt.show()"
   ]
  },
  {
   "cell_type": "markdown",
   "id": "2b3e76b9",
   "metadata": {},
   "source": [
    "Notice that we get a similar reduction of error, as before, even if the overall reduction in error isn't quite so large.\n",
    "\n",
    "What you have performed here is called ___bootstrap aggregation___ (or ___bagging___). The general algorithm for building a bagging ensemble is remarkedly simple. Given a training sample $train$ of size $N$:\n",
    "1. Create an empty list $ens$ for the ensemble\n",
    "2. For the required number of trees:  \n",
    "  2.1. Sample with replacemment $N$ instances from $train$ to create the bootstrap $B$  \n",
    "  2.2. Build a model $m_B$ on $B$ and add the model to the $ens$ list.\n",
    "\n",
    "Then, when we wish to predict from this ensemble, we simply average the individual predictions from the models within the ensemble.\n",
    "\n",
    "\n",
    "The process of using decision trees in combination with bagging has proven so effective that it has its own name - ___Random Forests___. There's even a method available in scikit-learn to encapsulate this, called a [RandomForestRegressor](https://scikit-learn.org/stable/modules/generated/sklearn.ensemble.RandomForestRegressor.html). Let's see how that works (we'll examine it over a range of ensemble sizes):"
   ]
  },
  {
   "cell_type": "code",
   "execution_count": 23,
   "id": "5290da13",
   "metadata": {},
   "outputs": [
    {
     "data": {
      "image/png": "[encoded data removed]",
      "text/plain": [
       "<Figure size 432x288 with 1 Axes>"
      ]
     },
     "metadata": {
      "needs_background": "light"
     },
     "output_type": "display_data"
    }
   ],
   "source": [
    "perf = []\n",
    "\n",
    "n_boot = [ 1, 2, 10, 50 ]\n",
    "\n",
    "for i, (X_train, t_train) in enumerate(M):\n",
    "    for n_est in n_boot:\n",
    "        mdl = RandomForestRegressor(n_estimators=n_est, min_samples_split=2, random_state=0, n_jobs=-1).fit(X_train, t_train)\n",
    "        y_test = mdl.predict(X_test)\n",
    "        perf.append({ 'ensemble_size' : n_est, 'MSE' : mean_squared_error(t_test, y_test) })\n",
    "\n",
    "perf = pd.DataFrame(perf)\n",
    "\n",
    "sns.lineplot(data=perf, x='ensemble_size', y='MSE')\n",
    "plt.show()"
   ]
  },
  {
   "cell_type": "markdown",
   "id": "8b1e4c2d-7b97-4b91-9f22-cb37c7452ba5",
   "metadata": {},
   "source": [
    "As you can see, the performance of the Random Forest essentially replicates our manual process that we performed earler.\n",
    "\n",
    "\n",
    "***<span style='color: #ce2227'>TASK 5:</span>*** Why do we construct the ensemble base learners with a `min_samples_split` of 2? (hint, look back to the bias and variance results of the previous section)"
   ]
  },
  {
   "cell_type": "markdown",
   "id": "717963c8-d299-4ad2-8e3c-ebac91fbaa6b",
   "metadata": {},
   "source": [
    "if we are trying to eliminate the bias so we select the area with the lowest bias and this would be the minsampleplit of 2 and would be the best for a ensample base learner."
   ]
  },
  {
   "cell_type": "markdown",
   "id": "4151ad17",
   "metadata": {},
   "source": [
    "Now that you have a Random Forest model available, it would be a good idea to understand its bias and variance characteristics.\n",
    "\n",
    "***<span style='color: #ce2227'>TASK 6:</span>*** Modify the bias-variance decomposition example from earlier so that it explores the bias and variance characteristics of Random Forests. Explore the `n_estimators` hyperparameter at the points [ 1, 2, 3, 5, 10, 20, 30, 50 ]"
   ]
  },
  {
   "cell_type": "code",
   "execution_count": 75,
   "id": "b50ebed5-86b4-4e48-8fbc-ccbbdcf37d95",
   "metadata": {},
   "outputs": [
    {
     "name": "stdout",
     "output_type": "stream",
     "text": [
      "The best N_esimators value in terms of MSE is: 50\n"
     ]
    },
    {
     "data": {
      "image/png": "[encoded data removed]",
      "text/plain": [
       "<Figure size 432x288 with 1 Axes>"
      ]
     },
     "metadata": {
      "needs_background": "light"
     },
     "output_type": "display_data"
    }
   ],
   "source": [
    "predictions = []\n",
    "N_esimators = [1,2,3,4,5,6,7,8,9,10,20,30,50]\n",
    "\n",
    "for m, (X_train, t_train) in enumerate(M):\n",
    "    for n in N_esimators:\n",
    "        mdl = RandomForestRegressor(n_estimators=n, min_samples_split=2, random_state = 0, n_jobs = -1).fit(X_train, t_train)\n",
    "        y_test = mdl.predict(X_test)\n",
    "        for i, y in enumerate(y_test):\n",
    "            predictions.append({ 'N_esimators' : n, 'i': i, 'y' : y })\n",
    "predictions = pd.DataFrame(predictions)\n",
    "\n",
    "ybar = predictions.groupby([ 'N_esimators', 'i' ]).agg(ybar=('y', 'mean')).reset_index()\n",
    "t = pd.DataFrame({ 'i' : range(len(t_test)), 't' : t_test })\n",
    "\n",
    "decomp = predictions.merge(ybar, on=[ 'N_esimators', 'i' ]).merge(t, on='i')\n",
    "\n",
    "decomp['mse'] = (decomp['t'] - decomp['y'])**2      ## total error (MSE - target - raw prediction)\n",
    "decomp['bias'] = (decomp['t'] - decomp['ybar'])**2  ## bias (target - mean prediction)\n",
    "decomp['var'] = (decomp['y'] - decomp['ybar'])**2   ## variance\n",
    "\n",
    "decomp = decomp.groupby('N_esimators').agg({ 'mse' : np.mean, 'bias' : np.mean, 'var' : np.mean }).reset_index()\n",
    "\n",
    "best_minsplit = decomp[decomp['mse']==decomp['mse'].min()]['N_esimators'].values[0] ## identify the best minsplit value by the row with the lowest MSE\n",
    "print(f'The best N_esimators value in terms of MSE is: {best_minsplit}')\n",
    "\n",
    "sns.lineplot(data=decomp.melt(id_vars='N_esimators'), x='N_esimators', y='value', hue='variable').set(xlabel='$N_esimators$', ylabel='Error')\n",
    "plt.axvline(x=best_minsplit, c='black', linestyle='--', zorder=1)\n",
    "plt.legend(title='Component', labels=['MSE (total)', 'Bias', 'Variance'])\n",
    "plt.show()"
   ]
  },
  {
   "cell_type": "markdown",
   "id": "8b1e4c2d-7b97-4b91-9f22-cb37c7452ba5",
   "metadata": {},
   "source": [
    "***<span style='color: #ce2227'>TASK 7:</span>*** Compare the bias error of the random forest with an ensemble size of 1 to that of the single decision tree with `minsplit` of 2. What difference to you note, and why do you think this might be?"
   ]
  },
  {
   "cell_type": "markdown",
   "id": "717963c8-d299-4ad2-8e3c-ebac91fbaa6b",
   "metadata": {},
   "source": [
    "the bias error of the in this graph is constant and in the single decision tree with minsplit of 2 it is changing and growing. Even though the random forest has slightly higher bias an ensamble of 2, it stays constant throughout and doesnt increase like the single decision tree"
   ]
  },
  {
   "cell_type": "markdown",
   "id": "8b1e4c2d-7b97-4b91-9f22-cb37c7452ba5",
   "metadata": {},
   "source": [
    "***<span style='color: #ce2227'>TASK 8:</span>*** How has a random forest regressor managed to reduce error over that of a single model?"
   ]
  },
  {
   "cell_type": "markdown",
   "id": "717963c8-d299-4ad2-8e3c-ebac91fbaa6b",
   "metadata": {},
   "source": [
    "Have more number of estimators which on average the more estimors the mroe accurate and less error. "
   ]
  },
  {
   "cell_type": "markdown",
   "id": "fd50b600-12c3-4c08-905f-ec20f0e488d2",
   "metadata": {},
   "source": [
    "## Roll Your Own Ensemble: Boosting\n",
    "\n",
    "As mentioned in lectures, boosting is an alternative form of ensemble learning to bagging that focuses on a different type of model aggregation. In contrast to bagging, boosting takes a completely different approach to ensemble learning by taking a \"weak\" base learning and chaining them together to build upon predictions of the previous model(s).\n",
    "\n",
    "The variant of boosting that you will be constructing is called [gradient boosting](https://en.wikipedia.org/wiki/Gradient_boosting#:~:text=Gradient%20boosting%20is%20a%20machine,prediction%20models%2C%20typically%20decision%20trees.).\n",
    "\n",
    "\n",
    "Let's start with a training sample:"
   ]
  },
  {
   "cell_type": "code",
   "execution_count": 25,
   "id": "1d6039ea",
   "metadata": {},
   "outputs": [],
   "source": [
    "X_train, t_train = M[0]"
   ]
  },
  {
   "cell_type": "markdown",
   "id": "2e5fbac3",
   "metadata": {},
   "source": [
    "We'll also define an initial \"model\" for the data (we'll make this the mean of the training response), and a residual `r`. You can think of this as the remainder of the target that the previous model(s) didn't capture."
   ]
  },
  {
   "cell_type": "code",
   "execution_count": 26,
   "id": "5344f45b",
   "metadata": {},
   "outputs": [],
   "source": [
    "r0 = np.mean(t_train)\n",
    "r_train = t_train - r0"
   ]
  },
  {
   "cell_type": "markdown",
   "id": "553ba822",
   "metadata": {},
   "source": [
    "Now, for the next model that we build, we will fit it to the our training features and the ___current residuals___"
   ]
  },
  {
   "cell_type": "code",
   "execution_count": 27,
   "id": "cdd1db4f",
   "metadata": {},
   "outputs": [],
   "source": [
    "r1 = DecisionTreeRegressor(min_samples_split=100, random_state=0).fit(X_train, r_train)"
   ]
  },
  {
   "cell_type": "markdown",
   "id": "827dc846",
   "metadata": {},
   "source": [
    "Then, we update the residuals to factor this new model:"
   ]
  },
  {
   "cell_type": "code",
   "execution_count": 28,
   "id": "6ef29e2a",
   "metadata": {},
   "outputs": [],
   "source": [
    "r_train = r_train - r1.predict(X_train)"
   ]
  },
  {
   "cell_type": "markdown",
   "id": "9802039a",
   "metadata": {},
   "source": [
    "And then we keep doing this until we've run out of time."
   ]
  },
  {
   "cell_type": "code",
   "execution_count": 29,
   "id": "f5940915",
   "metadata": {},
   "outputs": [],
   "source": [
    "r2 = DecisionTreeRegressor(min_samples_split=100, random_state=0).fit(X_train, r_train)\n",
    "r_train = r_train - r2.predict(X_train)\n",
    "\n",
    "r3 = DecisionTreeRegressor(min_samples_split=100, random_state=0).fit(X_train, r_train)\n",
    "r_train = r_train - r3.predict(X_train)\n",
    "\n",
    "## AND SO ON ..."
   ]
  },
  {
   "cell_type": "markdown",
   "id": "e10527a9",
   "metadata": {},
   "source": [
    "\n",
    " Predictions of the model then become a summation of the individual model predictions:"
   ]
  },
  {
   "cell_type": "code",
   "execution_count": 30,
   "id": "e3319e1d",
   "metadata": {},
   "outputs": [
    {
     "name": "stdout",
     "output_type": "stream",
     "text": [
      "24.32054200232204\n",
      "20.330368304795357\n",
      "19.428065467326313\n",
      "19.25679201213971\n"
     ]
    }
   ],
   "source": [
    "y_test = np.repeat(r0, len(t_test)) ## initial model\n",
    "print(mean_squared_error(t_test, y_test))\n",
    "\n",
    "y_test = r0 + r1.predict(X_test) ## initial model combined with first model\n",
    "print(mean_squared_error(t_test, y_test))\n",
    "\n",
    "y_test = r0 + r1.predict(X_test) + r2.predict(X_test) ## next model factored\n",
    "print(mean_squared_error(t_test, y_test))\n",
    "\n",
    "y_test = r0 + r1.predict(X_test) + r2.predict(X_test) + r3.predict(X_test) ### AND SO ON\n",
    "print(mean_squared_error(t_test, y_test))"
   ]
  },
  {
   "cell_type": "markdown",
   "id": "2b9546a6",
   "metadata": {},
   "source": [
    "As you can see, the incremental building of the ensemble leads to improvement in model performance over time. Sometimes, to smooth out the learning process, we weight each new model with a parameter `eta``. This is a form of _regularisation_. (we'll do this in the next example)\n",
    "\n",
    "As you can imagine, the repetitive process of building the boosting ensemble can be wrapped into a loop:"
   ]
  },
  {
   "cell_type": "code",
   "execution_count": 31,
   "id": "8339bbba",
   "metadata": {},
   "outputs": [
    {
     "data": {
      "text/plain": [
       "<AxesSubplot:xlabel='n_trees', ylabel='MSE'>"
      ]
     },
     "execution_count": 31,
     "metadata": {},
     "output_type": "execute_result"
    },
    {
     "data": {
      "image/png": "[encoded data removed]",
      "text/plain": [
       "<Figure size 432x288 with 1 Axes>"
      ]
     },
     "metadata": {
      "needs_background": "light"
     },
     "output_type": "display_data"
    }
   ],
   "source": [
    "min_samples_split = 100\n",
    "n_trees = 50\n",
    "\n",
    "perf = []\n",
    "\n",
    "r0 = np.mean(t_train)\n",
    "r_train  = t_train - r0\n",
    "ens = []\n",
    "\n",
    "y_test = np.repeat(r0, len(X_test))\n",
    "for i in range(n_trees):\n",
    "    mdl = DecisionTreeRegressor(random_state=0, min_samples_split=min_samples_split).fit(X_train, r_train)\n",
    "    ens.append(mdl) ## add the new model to the ensemble\n",
    "    r_train -= mdl.predict(X_train)\n",
    "\n",
    "    y_test += mdl.predict(X_test) ## update the test predictions with the weighted version of the new model's predictions\n",
    "    perf.append({ 'n_trees' : i + 1, 'MSE' : mean_squared_error(t_test, y_test) })\n",
    "\n",
    "perf = pd.DataFrame(perf)\n",
    "\n",
    "sns.lineplot(data=perf, x='n_trees', y='MSE')"
   ]
  },
  {
   "cell_type": "markdown",
   "id": "d4eb21fd",
   "metadata": {},
   "source": [
    "As you can see, the (general) trend is for the test error to reduce as the ensemble size increases\n",
    "\n",
    "***<span style='color: #ce2227'>TASK 9:</span>*** Why do we construct the boosting ensemble base learners with a `min_samples_split` of 100? (Hint: contrast this to the bagging example using `min_samples_split` of 2)"
   ]
  },
  {
   "cell_type": "markdown",
   "id": "4958fa62-6785-43dc-ad86-0fd07f9d673c",
   "metadata": {},
   "source": [
    "because with a min_sample_split of 100 you would have a high bias and low variance (opposite of bagging). and combines a set of weak learners into a strong learner to minimize training error."
   ]
  },
  {
   "cell_type": "markdown",
   "id": "5163cc0c",
   "metadata": {},
   "source": [
    "\n",
    "***<span style='color: #ce2227'>TASK 10:</span>*** Modify the above code so that the model predictions are weighted by a parameter `eta`. (Hint: modify each line where `predict` is called such that it is multiplied by `eta`) Set the value of `eta` to 0.1. Observe the differences from before - why do you think this is happening?"
   ]
  },
  {
   "cell_type": "code",
   "execution_count": 77,
   "id": "ef2f3f8d-9de6-4656-ac02-eb054e69a1c2",
   "metadata": {},
   "outputs": [
    {
     "data": {
      "text/plain": [
       "<AxesSubplot:xlabel='n_trees', ylabel='MSE'>"
      ]
     },
     "execution_count": 77,
     "metadata": {},
     "output_type": "execute_result"
    },
    {
     "data": {
      "image/png": "[encoded data removed]",
      "text/plain": [
       "<Figure size 432x288 with 1 Axes>"
      ]
     },
     "metadata": {
      "needs_background": "light"
     },
     "output_type": "display_data"
    }
   ],
   "source": [
    "min_samples_split = 100\n",
    "n_trees = 50\n",
    "eta = 0.1\n",
    "perf = []\n",
    "\n",
    "r0 = np.mean(t_train)\n",
    "r_train  = t_train - r0\n",
    "ens = []\n",
    "\n",
    "y_test = np.repeat(r0, len(X_test))\n",
    "for i in range(n_trees):\n",
    "    mdl = DecisionTreeRegressor(random_state=0, min_samples_split=min_samples_split).fit(X_train, r_train)\n",
    "    ens.append(mdl) ## add the new model to the ensemble\n",
    "    r_train -= mdl.predict(X_train)*eta\n",
    "\n",
    "    y_test += mdl.predict(X_test)*eta  ## update the test predictions with the weighted version of the new model's predictions\n",
    "    perf.append({ 'n_trees' : i + 1, 'MSE' : mean_squared_error(t_test, y_test) })\n",
    "\n",
    "perf = pd.DataFrame(perf)\n",
    "\n",
    "sns.lineplot(data=perf, x='n_trees', y='MSE')"
   ]
  },
  {
   "cell_type": "markdown",
   "id": "4958fa62-6785-43dc-ad86-0fd07f9d673c",
   "metadata": {},
   "source": [
    "Trying to lower the rate we add new information in. So it slowly lowers the MSE compared to above where it drops quite a lot at the start but then the progress starts platau and the data becomes noisy. But this graph on the other hand slowly decreases the MSE with the N_trees as the updates are weighted by 0.1."
   ]
  },
  {
   "cell_type": "markdown",
   "id": "13fa7894-f4de-4081-977d-ba4c8283aed5",
   "metadata": {},
   "source": [
    "### Off-the-shelf boosting: Gradient Boosting Machine\n",
    "\n",
    "The previous section tasked you with constructing a boosting ensemble. Like with bagging, it is useful to see how such an ensemble is constructed. However, it is also better to leverage boosting off-the-shelf through a solution called [gradient boosting](https://en.wikipedia.org/wiki/Gradient_boosting#:~:text=Gradient%20boosting%20is%20a%20machine,prediction%20models%2C%20typically%20decision%20trees.). scikit-learn provides this through the [GradientBoostingRegressor](https://scikit-learn.org/stable/modules/generated/sklearn.ensemble.GradientBoostingRegressor.html) class:"
   ]
  },
  {
   "cell_type": "code",
   "execution_count": 33,
   "id": "d1f087a1-c16b-45b5-bfa5-5b6f54c72b94",
   "metadata": {},
   "outputs": [
    {
     "data": {
      "image/png": "[encoded data removed]",
      "text/plain": [
       "<Figure size 432x288 with 1 Axes>"
      ]
     },
     "metadata": {
      "needs_background": "light"
     },
     "output_type": "display_data"
    }
   ],
   "source": [
    "perf = []\n",
    "\n",
    "n_tree = np.arange(1, 101).astype(int)\n",
    "\n",
    "for i, (X_train, t_train) in enumerate(M):\n",
    "    for n_est in n_tree:\n",
    "        mdl = GradientBoostingRegressor(n_estimators=n_est, min_samples_split=100, learning_rate=0.1, random_state=0).fit(X_train, t_train)\n",
    "        y_test = mdl.predict(X_test)\n",
    "        perf.append({ 'ensemble_size' : n_est, 'MSE' : mean_squared_error(t_test, y_test) })\n",
    "\n",
    "perf = pd.DataFrame(perf)\n",
    "\n",
    "sns.lineplot(data=perf, x='ensemble_size', y='MSE')\n",
    "plt.show()"
   ]
  },
  {
   "cell_type": "markdown",
   "id": "3148298f-f8b1-4995-a9ef-a91f80a2ec02",
   "metadata": {},
   "source": [
    "As you can see, the results seem to encapsulate the manual process nicely. (in fact, it's performance is actually slightly better due to a couple of optimisation not discussed here!)"
   ]
  },
  {
   "cell_type": "markdown",
   "id": "b553b188-1ed2-4c76-9373-77ce12a26866",
   "metadata": {},
   "source": [
    "## Wrap-Up\n",
    "\n",
    "In this lab, you have seen how two forms of ensemble learning - bagging and boosting - can be used to provide more accurate predictions from a base learner. In the second assignment, you will explore these methods further to better understand how they work to reduce error.\n",
    "\n",
    "***OPTIONAL TASK 10:*** As a precursor to completing your second assignment, examine the bias and variance decomposition of CART done at the start of this lab. Perform a bias and variance decomposition of gradient boosting In particular, relate the bias and variance conditions of CART for a given value of `min_samples_split` to the parameterisation of CART when used in bagging and boosting. From this relationship, make an educated guess as to what components of error are targeted for reduction by bagging and boosting."
   ]
  },
  {
   "cell_type": "markdown",
   "id": "e7ad5ded-d944-42f9-9639-bc506e546c54",
   "metadata": {},
   "source": [
    "_WRITE YOUR ANSWER HERE_"
   ]
  }
 ],
 "metadata": {
  "kernelspec": {
   "display_name": "Python 3.10.4 64-bit",
   "language": "python",
   "name": "python3"
  },
  "language_info": {
   "codemirror_mode": {
    "name": "ipython",
    "version": 3
   },
   "file_extension": ".py",
   "mimetype": "text/x-python",
   "name": "python",
   "nbconvert_exporter": "python",
   "pygments_lexer": "ipython3",
   "version": "3.10.4"
  },
  "vscode": {
   "interpreter": {
    "hash": "ce7cca635952bebe4ff973d82e24d837bdff99cd5a17557994c0e84479824bc0"
   }
  }
 },
 "nbformat": 4,
 "nbformat_minor": 5
}
