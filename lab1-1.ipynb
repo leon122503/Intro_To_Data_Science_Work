{
 "cells": [
  {
   "cell_type": "code",
   "execution_count": 30,
   "metadata": {},
   "outputs": [
    {
     "name": "stdout",
     "output_type": "stream",
     "text": [
      "1111111111\n"
     ]
    }
   ],
   "source": [
    "a = 1\n",
    "for i in range(9):\n",
    "    ## insert your code here\n",
    "    a = a*10 + 1 # update a value\n",
    "print(a)"
   ]
  },
  {
   "cell_type": "code",
   "execution_count": 31,
   "metadata": {},
   "outputs": [
    {
     "name": "stdout",
     "output_type": "stream",
     "text": [
      "error\n",
      "None\n"
     ]
    }
   ],
   "source": [
    "import math\n",
    "def pythagoras(a, b):\n",
    "    if a < 0 or b < 0 :\n",
    "        print(\"error\")\n",
    "        return None\n",
    "        \n",
    "\n",
    "    else :\n",
    "        return math.sqrt(a**2 + b**2)\n",
    "\n",
    "  \n",
    "\n",
    "print(pythagoras(2,-4)) # An example. "
   ]
  },
  {
   "cell_type": "code",
   "execution_count": 32,
   "metadata": {},
   "outputs": [
    {
     "name": "stdout",
     "output_type": "stream",
     "text": [
      "[5, 3, 2, 1, 6, 5, 4, 4, 3, 6, 4, 1, 3, 3, 1, 6, 3, 5, 4, 1, 6, 6, 1, 1, 3, 6, 1, 5, 5, 6, 6, 2, 1, 5, 3, 4, 2, 1, 3, 2, 2, 4, 3, 3, 1, 6, 5, 4, 6, 5, 4, 4, 6, 3, 1, 6, 4, 4, 2, 1, 1, 2, 3, 4, 1, 5, 2, 1, 1, 3, 4, 3, 5, 2, 6, 3, 1, 2, 5, 4, 5, 2, 6, 1, 4, 1, 1, 2, 6, 6, 5, 4, 6, 4, 2, 4, 4, 3, 2, 6]\n"
     ]
    }
   ],
   "source": [
    "# import the 'random' package \n",
    "import random\n",
    "rlst=[] # create an empty list\n",
    "for i in range(100):\n",
    "    rlst.append(random.randint(1,6)) # add a random number between zero and one to the end of the list\n",
    "print(rlst)"
   ]
  },
  {
   "cell_type": "code",
   "execution_count": 33,
   "metadata": {},
   "outputs": [
    {
     "name": "stdout",
     "output_type": "stream",
     "text": [
      "[array([2, 5, 3, 3, 5, 2, 5, 4, 2, 1, 4, 1, 5, 1, 3, 4, 4, 1, 4, 5, 4, 1,\n",
      "       1, 5, 1, 3, 2, 3, 4, 1, 5, 5, 3, 1, 3, 2, 3, 3, 3, 1, 1, 1, 1, 5,\n",
      "       1, 5, 4, 5, 4, 2, 5, 4, 4, 1, 5, 5, 2, 5, 2, 1, 4, 5, 4, 1, 1, 2,\n",
      "       2, 4, 4, 5, 1, 3, 3, 1, 5, 4, 2, 2, 1, 2, 3, 2, 2, 1, 1, 5, 1, 3,\n",
      "       2, 3, 2, 1, 1, 1, 4, 1, 4, 2, 3, 2], dtype=int64)]\n"
     ]
    }
   ],
   "source": [
    "import numpy as np\n",
    "rng = np.random.default_rng()\n",
    "# import the 'random' package \n",
    "import random\n",
    "rlist=[rng.integers(1,6,size = 100)]\n",
    "print(rlist)"
   ]
  },
  {
   "cell_type": "code",
   "execution_count": 1,
   "metadata": {},
   "outputs": [
    {
     "name": "stdout",
     "output_type": "stream",
     "text": [
      "[2, 12, 78, 115, 185]\n",
      "2\n",
      "4\n",
      "18\n",
      "2\n",
      "38\n",
      "5\n"
     ]
    }
   ],
   "source": [
    "from pickle import TRUE\n",
    "import re\n",
    "\n",
    "lyrics = 'I dreamed a dream in times gone by \\\n",
    "When hope was high and life worth living \\\n",
    "I dreamed, that love would never die \\\n",
    "I dreamed that God would be forgiving \\\n",
    "Then I was young and unafraid \\\n",
    "And dreams were made and used and wasted \\\n",
    "There was no ransom to be paid \\\n",
    "No song unsung, no wine untasted'\n",
    "\n",
    "print([m.start() for m in re.finditer('dream', lyrics)]) # find index of all dream words\n",
    "token = lyrics.split(\" \")\n",
    "count = 0\n",
    "for x in token:\n",
    "     if (x.startswith('dream') == True):\n",
    "          index= token.index(x)\n",
    "          print(index + 1) # displays which word starts with dream\n",
    "          count = count + 1 # displays total word that starts with dream\n",
    "\n",
    "print(count)\n"
   ]
  },
  {
   "cell_type": "code",
   "execution_count": 2,
   "metadata": {},
   "outputs": [
    {
     "name": "stdout",
     "output_type": "stream",
     "text": [
      "0.016355912466550326\n"
     ]
    }
   ],
   "source": [
    "def birthday_clash_prob(n):\n",
    "    number =1\n",
    "    for x in range(n):\n",
    "        number = number*(365-x)/365\n",
    "    return 1- number ### replace this with your required work\n",
    "\n",
    "numberofppl = 4 ## replace this with something that actually computes the probabilities of birthday clashes from n=4 to n=23\n",
    "print(birthday_clash_prob(numberofppl))\n"
   ]
  }
 ],
 "metadata": {
  "kernelspec": {
   "display_name": "Python 3.10.4 ('INFO204-I9XooMUR')",
   "language": "python",
   "name": "python3"
  },
  "language_info": {
   "codemirror_mode": {
    "name": "ipython",
    "version": 3
   },
   "file_extension": ".py",
   "mimetype": "text/x-python",
   "name": "python",
   "nbconvert_exporter": "python",
   "pygments_lexer": "ipython3",
   "version": "3.10.4"
  },
  "orig_nbformat": 4,
  "vscode": {
   "interpreter": {
    "hash": "18c2da27c564a7ebff761d298462411d04db3ee5cb0cc4f339cefd0a572de81b"
   }
  }
 },
 "nbformat": 4,
 "nbformat_minor": 2
}
